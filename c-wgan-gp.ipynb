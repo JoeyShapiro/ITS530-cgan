{
 "cells": [
  {
   "cell_type": "markdown",
   "metadata": {},
   "source": [
    "## Notable links\n",
    "[GitHub](https://github.com/JoeyShapiro/ITS530-cgan/tree/main)\n",
    "NOTE: That wgan is my attempt at adding embeddings"
   ]
  },
  {
   "cell_type": "markdown",
   "metadata": {},
   "source": [
    "### NOTES\n",
    "[wgan](https://www.youtube.com/watch?v=pG0QZ7OddX4)\n",
    "### TODO\n",
    "- scale data better\n",
    "- add embedder\n",
    "- add everything here"
   ]
  },
  {
   "cell_type": "code",
   "execution_count": 65,
   "metadata": {},
   "outputs": [],
   "source": [
    "\n",
    "import torch\n",
    "import numpy as np\n",
    "import os\n",
    "\n",
    "from torchvision import datasets\n",
    "from torchvision import transforms\n",
    "import torchvision.transforms as T\n",
    "\n",
    "import matplotlib.pyplot as plt\n",
    "import pandas as pd\n",
    "\n",
    "from numpy import genfromtxt\n",
    "\n",
    "from PIL import Image\n",
    "\n",
    "import random\n",
    "\n",
    "# import visiondataset\n",
    "from torchvision.datasets import VisionDataset"
   ]
  },
  {
   "cell_type": "code",
   "execution_count": 66,
   "metadata": {},
   "outputs": [],
   "source": [
    "from sklearn.metrics import confusion_matrix\n",
    "from sklearn.metrics import precision_score, recall_score, accuracy_score, f1_score"
   ]
  },
  {
   "cell_type": "code",
   "execution_count": 67,
   "metadata": {},
   "outputs": [],
   "source": [
    "\n",
    "from torch.utils.data import TensorDataset, DataLoader\n",
    "\n",
    "import torch.optim as optim \n",
    "import torch.nn as nn\n",
    "\n",
    "\n",
    "import torch.nn.functional as F\n",
    "\n",
    "from torch.autograd import Variable\n",
    "\n",
    "from fastai.vision.all import *\n",
    "from fastai.vision.gan import *\n",
    "\n",
    "from fastai.callback.all import *"
   ]
  },
  {
   "cell_type": "code",
   "execution_count": 68,
   "metadata": {},
   "outputs": [],
   "source": [
    "from datasets import load_dataset, Split"
   ]
  },
  {
   "cell_type": "code",
   "execution_count": 69,
   "metadata": {},
   "outputs": [],
   "source": [
    "import torch.autograd as autograd"
   ]
  },
  {
   "cell_type": "code",
   "execution_count": 70,
   "metadata": {},
   "outputs": [
    {
     "name": "stdout",
     "output_type": "stream",
     "text": [
      "img_size=3072\n",
      "device=device(type='mps')\n"
     ]
    }
   ],
   "source": [
    "channels = 3 ## 1 for B&W, 3 for RGB, 4 for RGBA\n",
    "\n",
    "learning_rate    = 2e-4#0.003  ## Adam default   ## 0.001 2e-4#\n",
    "batch_size       = 64\n",
    "N_Epochs         = 1_000#4_000  ##27000  \n",
    "num_classes = 3\n",
    "pixels = 32\n",
    "img_size = pixels*pixels*channels\n",
    "certainty_repeater = 6# channels**2 - num_classes\n",
    "print(f\"{img_size=}\")\n",
    "\n",
    "if torch.cuda.is_available():\n",
    "    device = torch.device('cuda')\n",
    "elif torch.backends.mps is not None:\n",
    "    device = torch.device('mps')\n",
    "    os.environ['PYTORCH_ENABLE_MPS_FALLBACK'] = '1'\n",
    "else:\n",
    "    device = torch.device('cpu')\n",
    "    # print a warning that cpu is being used\n",
    "    print(\"Warning: Running on CPU. This will be slow.\")\n",
    "print(f\"{device=}\")\n",
    "device = 'cpu'"
   ]
  },
  {
   "cell_type": "code",
   "execution_count": 71,
   "metadata": {},
   "outputs": [],
   "source": [
    "import pickle\n",
    "from typing import Any, Callable, Dict, List, Optional, Tuple, Union\n",
    "\n",
    "class MyDataset(VisionDataset):\n",
    "    classes = [\n",
    "        'sword',\n",
    "        'pickaxe',\n",
    "        'axe',\n",
    "        'hoe',\n",
    "        'shovel'\n",
    "    ]\n",
    "\n",
    "    def __init__(\n",
    "        self,\n",
    "        root: str = \"mc-dataset.pkl\",\n",
    "        train: bool = True,\n",
    "        transform: Optional[Callable] = None,\n",
    "        target_transform: Optional[Callable] = None,\n",
    "    ) -> None:\n",
    "        super().__init__(root, transform=transform, target_transform=target_transform)\n",
    "        self.train = train  # training set or test set\n",
    "\n",
    "        self.data, self.targets, self.names = self._load_data()\n",
    "\n",
    "    def __getitem__(self, index: int) -> Tuple[Any, Any]:\n",
    "        \"\"\"\n",
    "        Args:\n",
    "            index (int): Index\n",
    "\n",
    "        Returns:\n",
    "            tuple: (image, target) where target is index of the target class.\n",
    "        \"\"\"\n",
    "        img, target, name = self.data[index], int(self.targets[index]), self.names[index]\n",
    "\n",
    "        # doing this so that it is consistent with all other datasets\n",
    "        # to return a PIL Image\n",
    "        # img = Image.fromarray(img.numpy().astype(np.uint8))\n",
    "\n",
    "        if self.transform is not None:\n",
    "            img = self.transform(img)\n",
    "\n",
    "        if self.target_transform is not None:\n",
    "            target = self.target_transform(target)\n",
    "\n",
    "        return img, target, name\n",
    "\n",
    "    def __len__(self) -> int:\n",
    "        return len(self.data)\n",
    "    \n",
    "    def _load_data(self):\n",
    "        with open('mc-dataset.pkl', 'rb') as f:\n",
    "            data = pickle.load(f)\n",
    "        \n",
    "        imgs = []\n",
    "        labels = []\n",
    "        names = []\n",
    "        for i in range(len(data)):\n",
    "            imgs.append(torch.Tensor(data[i][0]))\n",
    "            labels.append(data[i][1])\n",
    "            names.append(data[i][2])\n",
    "\n",
    "        # if self.train:\n",
    "        #     data = data[0]\n",
    "        # else:\n",
    "        #     data = data[1]\n",
    "        return imgs, labels, names"
   ]
  },
  {
   "cell_type": "code",
   "execution_count": 72,
   "metadata": {},
   "outputs": [
    {
     "name": "stdout",
     "output_type": "stream",
     "text": [
      "img.shape=torch.Size([32, 32, 3]) label=0 name.shape=torch.Size([18])\n"
     ]
    },
    {
     "data": {
      "text/plain": [
       "<matplotlib.image.AxesImage at 0x3d053ebe0>"
      ]
     },
     "execution_count": 72,
     "metadata": {},
     "output_type": "execute_result"
    },
    {
     "data": {
      "image/png": "[encoded data removed]",
      "text/plain": [
       "<Figure size 640x480 with 1 Axes>"
      ]
     },
     "metadata": {},
     "output_type": "display_data"
    }
   ],
   "source": [
    "# df = pd.DataFrame(dataset.reshape((dataset.shape[0], 32*32)))\n",
    "# df.to_csv(f\"{data}-dataset.csv\", index=False, header=False)\n",
    "\n",
    "# load the dataset\n",
    "dataset = MyDataset()\n",
    "\n",
    "# load the first image in the dataset\n",
    "# print(dataset[5][0])\n",
    "img, label, name = dataset[5]\n",
    "print(f\"{img.shape=} {label=} {name.shape=}\")\n",
    "img *= 255\n",
    "plt.imshow(Image.fromarray(img.numpy().astype(np.uint8)))"
   ]
  },
  {
   "cell_type": "code",
   "execution_count": 73,
   "metadata": {},
   "outputs": [
    {
     "name": "stdout",
     "output_type": "stream",
     "text": [
      "Label 0: 422\n",
      "Label 1: 312\n",
      "Label 2: 309\n",
      "Label 3: 0\n",
      "Label 4: 0\n"
     ]
    }
   ],
   "source": [
    "# display the split of labels in the dataset\n",
    "for i in range(5):\n",
    "    print(f\"Label {i}: {len([x for x in dataset.targets if x == i])}\")\n",
    "\n",
    "# convert the dataset into a train / test split\n",
    "# TODO i dont think test is used\n",
    "train_dataset, test_dataset = torch.utils.data.random_split(dataset, [0.95, 0.05])\n",
    "\n",
    "# define the dataloader\n",
    "dl_train = DataLoader(train_dataset, batch_size=batch_size, shuffle=True)\n",
    "dl_test = DataLoader(test_dataset, batch_size=batch_size, shuffle=True)"
   ]
  },
  {
   "cell_type": "code",
   "execution_count": 74,
   "metadata": {},
   "outputs": [],
   "source": [
    "\n",
    "def plot_GAN_losses(list_losses_fake):\n",
    "    \n",
    "    the_epochs = [i for i in range(len(list_losses_fake))]  \n",
    "\n",
    "    plt.plot(the_epochs, list_losses_fake,    label = \"fake\") \n",
    "    plt.legend() \n",
    "    plt.show()\n"
   ]
  },
  {
   "cell_type": "code",
   "execution_count": 75,
   "metadata": {},
   "outputs": [],
   "source": [
    "\n",
    "def print_metrics_function(y_test, y_pred):\n",
    "    print('Accuracy: %.2f' % accuracy_score(y_test, y_pred))\n",
    "    confmat = confusion_matrix(y_true=y_test, y_pred=y_pred)\n",
    "    print(\"Confusion Matrix:\")\n",
    "    print(confmat)\n",
    "    print('Precision: %.3f' % precision_score(y_true=y_test, y_pred=y_pred, average='weighted'))\n",
    "    print('Recall: %.3f' % recall_score(y_true=y_test, y_pred=y_pred, average='weighted'))\n",
    "    f1_measure = f1_score(y_true=y_test, y_pred=y_pred, average='weighted')\n",
    "    print('F1-mesure: %.3f' % f1_measure)\n",
    "    return f1_measure, confmat\n"
   ]
  },
  {
   "cell_type": "code",
   "execution_count": 76,
   "metadata": {},
   "outputs": [],
   "source": [
    "def plot_metric_per_epoch(the_scores_list):\n",
    "    x_epochs = []\n",
    "    y_epochs = [] \n",
    "    for i, val in enumerate(the_scores_list):\n",
    "        x_epochs.append(i)\n",
    "        y_epochs.append(val)\n",
    "    \n",
    "    plt.scatter(x_epochs, y_epochs,s=50,c='lightgreen', marker='s', label='score')\n",
    "    plt.xlabel('epoch')\n",
    "    plt.ylabel('score')\n",
    "    plt.title('Score per epoch')\n",
    "    plt.legend()\n",
    "    plt.grid()\n",
    "    plt.show()"
   ]
  },
  {
   "cell_type": "code",
   "execution_count": 77,
   "metadata": {},
   "outputs": [],
   "source": [
    "def random_G_vector_input():\n",
    "    rand_vec = torch.randn( 100 ).to(device)\n",
    "    return rand_vec"
   ]
  },
  {
   "cell_type": "code",
   "execution_count": 78,
   "metadata": {},
   "outputs": [],
   "source": [
    "def random_G_batch_vector_input():\n",
    "    rand_vec = torch.randn( (batch_size, 100 ) ).to(device)\n",
    "    return rand_vec"
   ]
  },
  {
   "cell_type": "code",
   "execution_count": 79,
   "metadata": {},
   "outputs": [],
   "source": [
    "def random_batch_one_hot_rc(batch_size, size):\n",
    "    rand_vec = torch.zeros( (batch_size, num_classes ) ).to(device)\n",
    "    for i in range(batch_size):\n",
    "        random_idx = random.randint(0,size-1)\n",
    "        rand_vec[i, random_idx] = 1.0\n",
    "    return rand_vec"
   ]
  },
  {
   "cell_type": "code",
   "execution_count": 80,
   "metadata": {},
   "outputs": [],
   "source": [
    "list_losses_real    = []\n",
    "list_losses_fake    = []\n",
    "list_losses_tricked = []\n",
    "\n",
    "classes = [\n",
    "    'sword',\n",
    "    'pickaxe',\n",
    "    'axe',\n",
    "    'hoe',\n",
    "    'shovel'\n",
    "]\n",
    "\n",
    "import tqdm\n",
    "\n",
    "def training_loop(  N_Epochs, G_model, D_model, D_loss_fn, G_opt, D_opt   ):\n",
    "    pbar = tqdm.tqdm(range(N_Epochs+1))\n",
    "\n",
    "    for epoch in pbar:\n",
    "        # shuffle dl_train every epoch\n",
    "        dl_train = DataLoader(train_dataset, batch_size=batch_size, shuffle=True)\n",
    "        \n",
    "        for xb, yb, nb in dl_train:              ## xb = [batch, 1, 28, 28]\n",
    "            xb, yb = xb.to(device), yb.to(device)\n",
    "\n",
    "            if xb.shape[0] != batch_size:\n",
    "                # print(f\"skipping batch of size {xb.shape[0]}\")\n",
    "                continue\n",
    "\n",
    "            if channels == 4 or channels == 3:\n",
    "                xb = xb.permute(0, 3, 1, 2)\n",
    "            xb = torch.squeeze(xb, dim=1)\n",
    "            yb = F.one_hot(yb, num_classes=num_classes).repeat(1, certainty_repeater).to(device)\n",
    "            yb = nb.to(device)\n",
    "\n",
    "            yb_certainty = yb.repeat(channels, pixels, 1, 1).permute(2, 0, 1, 3) # [ batch, x (classes), y, channels ]\n",
    "            real = torch.cat( (xb, yb_certainty) , dim=3)\n",
    "\n",
    "            for _ in range(5):\n",
    "                noise = torch.cat( (random_G_batch_vector_input(), yb) , dim=1)\n",
    "                fake = G_model( noise )#.detach()\n",
    "\n",
    "                real_pred = D_model( real  ).reshape(-1)\n",
    "                \n",
    "                inputs = torch.cat( (fake, yb_certainty) , dim=3)\n",
    "                fake_pred = D_model(  inputs  ).reshape(-1)\n",
    "\n",
    "                fake_loss   = D_loss_fn(D_model, inputs, real, real_pred, fake_pred)\n",
    "                # D_opt.zero_grad()\n",
    "                D_model.zero_grad()\n",
    "                fake_loss.backward(retain_graph=True)\n",
    "                D_opt.step()\n",
    "                \n",
    "            output = D_model( inputs ).reshape(-1)\n",
    "            gen_loss = -torch.mean(output)\n",
    "            G_model.zero_grad()\n",
    "            gen_loss.backward()\n",
    "            G_opt.step()\n",
    "       \n",
    "            \n",
    "        if epoch % 10 == 0:\n",
    "            list_losses_fake.append(        fake_loss.cpu().detach().numpy()  )\n",
    "            D_fake_loss_rnd = np.round(fake_loss.cpu().detach().numpy(), 3)\n",
    "\n",
    "            message = f\"{D_fake_loss_rnd=}\"\n",
    "            pbar.set_description(message)\n",
    "            \n",
    "        # draw an image of each class\n",
    "        # place them all on the same figure\n",
    "        if epoch % 100 == 0:\n",
    "            f, axarr = plt.subplots(nrows=1, ncols=num_classes, figsize=(12,4))\n",
    "            \n",
    "            for i in range(num_classes):\n",
    "                label = torch.tensor([i]).to(device)\n",
    "                label = F.one_hot(label, num_classes=num_classes)\n",
    "                label = label.repeat(1, certainty_repeater)\n",
    "\n",
    "                # create noise and make it 2d\n",
    "                noise = random_G_vector_input().unsqueeze(0)\n",
    "                inputs = torch.cat( (noise, label) , dim=1)\n",
    "                output = G_model( inputs ).cpu()\n",
    "                # convert output (batch, img_size) to (batch, 4, 32, 32)\n",
    "                if channels == 4 or channels == 3:\n",
    "                    # output = output.reshape((-1, 4, pixels, pixels)) # wrong too, lol\n",
    "                    output = output.reshape((-1, channels, pixels, pixels))\n",
    "                    # output = output.reshape((-1, 32, 32))\n",
    "\n",
    "                    img = output.permute(0, 2, 3, 1).detach().numpy()#.reshape(32,32)\n",
    "                elif channels == 1:\n",
    "                    img = output.detach().numpy()\n",
    "\n",
    "                if channels == 4 or channels == 3:\n",
    "                    mode = None\n",
    "                elif channels == 1:\n",
    "                    mode = 'L'\n",
    "\n",
    "                img = Image.fromarray((img * 255).astype(np.uint8)[0], mode=mode)\n",
    "                # display the image\n",
    "                axarr[i].imshow(img)\n",
    "                # place name of class on image\n",
    "                axarr[i].set_title(classes[i])\n",
    "            plt.show()\n",
    "            \n"
   ]
  },
  {
   "cell_type": "code",
   "execution_count": null,
   "metadata": {},
   "outputs": [],
   "source": []
  },
  {
   "cell_type": "code",
   "execution_count": 81,
   "metadata": {},
   "outputs": [],
   "source": [
    "def grad_penatly(critic, real, fake):\n",
    "    # Random weight term for interpolation between real and fake samples\n",
    "    batch, c, h, w = real.shape\n",
    "    epsilon = torch.rand((batch, 1, 1, 1)).repeat(1, c, h, w).to(device)\n",
    "    interpolated_images = real * epsilon + fake * (1 - epsilon)\n",
    "\n",
    "    # Calculate critic scores\n",
    "    mixed_scores = critic(interpolated_images)\n",
    "    gradient = torch.autograd.grad(\n",
    "        inputs=interpolated_images,\n",
    "        outputs=mixed_scores,\n",
    "        grad_outputs=torch.ones_like(mixed_scores),\n",
    "        create_graph=True,\n",
    "        retain_graph=True,\n",
    "    )[0]\n",
    "\n",
    "    # Take the norm of the gradient\n",
    "    gradient = gradient.view(gradient.shape[0], -1)\n",
    "    grad_norm = gradient.norm(2, dim=1) # L2 norm (euclidean norm)\n",
    "    gradient_penalty = torch.mean((grad_norm - 1) ** 2)\n",
    "    return gradient_penalty"
   ]
  },
  {
   "cell_type": "code",
   "execution_count": 82,
   "metadata": {},
   "outputs": [],
   "source": [
    "def wasserstein_loss(D_model, gen_img, real_data, real_pred, fake_pred):\n",
    "    loss =  - (real_pred.mean() - fake_pred.mean()) + 10 * grad_penatly(D_model, real_data, gen_img)\n",
    "    return loss"
   ]
  },
  {
   "cell_type": "code",
   "execution_count": 83,
   "metadata": {},
   "outputs": [],
   "source": [
    "class Critic(nn.Module):\n",
    "    def __init__(self, channels_img, features_d):\n",
    "        super(Critic, self).__init__()\n",
    "        self.critic = nn.Sequential(\n",
    "            nn.Conv2d(channels_img, features_d, kernel_size=2, stride=2, padding=1),\n",
    "            nn.LeakyReLU(0.2),\n",
    "            self._block(features_d, features_d * 2, 2, 2, 1),\n",
    "            self._block(features_d * 2, features_d * 4, 2, 2, 1),\n",
    "            self._block(features_d * 4, features_d * 8, 2, 2, 1),\n",
    "            nn.Conv2d(features_d * 8, 1, kernel_size=2, stride=2, padding=0),\n",
    "        )\n",
    "\n",
    "    def _block(self, in_channels, out_channels, kernel_size, stride, padding):\n",
    "        return nn.Sequential(\n",
    "            nn.Conv2d(\n",
    "                in_channels, out_channels, kernel_size, stride, padding, bias=False\n",
    "            ),\n",
    "            nn.InstanceNorm2d(out_channels, affine=True),\n",
    "            nn.LeakyReLU(0.2),\n",
    "        )\n",
    "    \n",
    "    def forward(self, x):\n",
    "        return self.critic(x)"
   ]
  },
  {
   "cell_type": "code",
   "execution_count": 84,
   "metadata": {},
   "outputs": [
    {
     "name": "stderr",
     "output_type": "stream",
     "text": [
      "D_fake_loss_rnd=-11.135:   0%|          | 0/1001 [00:19<?, ?it/s]/var/folders/8v/kyhpjx6d3y1b7dp0twz_83sw0000gn/T/ipykernel_73494/1657615674.py:96: RuntimeWarning: invalid value encountered in cast\n",
      "  img = Image.fromarray((img * 255).astype(np.uint8)[0], mode=mode)\n"
     ]
    },
    {
     "data": {
      "image/png": "[encoded data removed]",
      "text/plain": [
       "<Figure size 1200x400 with 3 Axes>"
      ]
     },
     "metadata": {},
     "output_type": "display_data"
    },
    {
     "name": "stderr",
     "output_type": "stream",
     "text": [
      "D_fake_loss_rnd=-2.398:   9%|▉         | 88/1001 [30:26<5:15:50, 20.76s/it] \n"
     ]
    },
    {
     "ename": "KeyboardInterrupt",
     "evalue": "",
     "output_type": "error",
     "traceback": [
      "\u001b[0;31m---------------------------------------------------------------------------\u001b[0m",
      "\u001b[0;31mKeyboardInterrupt\u001b[0m                         Traceback (most recent call last)",
      "Cell \u001b[0;32mIn[84], line 31\u001b[0m\n\u001b[1;32m     28\u001b[0m D_model\u001b[38;5;241m.\u001b[39mto(device)\n\u001b[1;32m     29\u001b[0m \u001b[38;5;66;03m# D_loss_fn.to(device)\u001b[39;00m\n\u001b[0;32m---> 31\u001b[0m \u001b[43mtraining_loop\u001b[49m\u001b[43m(\u001b[49m\u001b[43m  \u001b[49m\u001b[43mN_Epochs\u001b[49m\u001b[43m,\u001b[49m\u001b[43m \u001b[49m\u001b[43mG_model\u001b[49m\u001b[43m,\u001b[49m\u001b[43m \u001b[49m\u001b[43mD_model\u001b[49m\u001b[43m,\u001b[49m\u001b[43m \u001b[49m\u001b[43mD_loss_fn\u001b[49m\u001b[43m,\u001b[49m\u001b[43m \u001b[49m\u001b[43mG_opt\u001b[49m\u001b[43m,\u001b[49m\u001b[43m \u001b[49m\u001b[43mD_opt\u001b[49m\u001b[43m \u001b[49m\u001b[43m)\u001b[49m\n",
      "Cell \u001b[0;32mIn[80], line 50\u001b[0m, in \u001b[0;36mtraining_loop\u001b[0;34m(N_Epochs, G_model, D_model, D_loss_fn, G_opt, D_opt)\u001b[0m\n\u001b[1;32m     48\u001b[0m     \u001b[38;5;66;03m# D_opt.zero_grad()\u001b[39;00m\n\u001b[1;32m     49\u001b[0m     D_model\u001b[38;5;241m.\u001b[39mzero_grad()\n\u001b[0;32m---> 50\u001b[0m     \u001b[43mfake_loss\u001b[49m\u001b[38;5;241;43m.\u001b[39;49m\u001b[43mbackward\u001b[49m\u001b[43m(\u001b[49m\u001b[43mretain_graph\u001b[49m\u001b[38;5;241;43m=\u001b[39;49m\u001b[38;5;28;43;01mTrue\u001b[39;49;00m\u001b[43m)\u001b[49m\n\u001b[1;32m     51\u001b[0m     D_opt\u001b[38;5;241m.\u001b[39mstep()\n\u001b[1;32m     53\u001b[0m output \u001b[38;5;241m=\u001b[39m D_model( inputs )\u001b[38;5;241m.\u001b[39mreshape(\u001b[38;5;241m-\u001b[39m\u001b[38;5;241m1\u001b[39m)\n",
      "File \u001b[0;32m~/anaconda3/envs/its530_py38/lib/python3.8/site-packages/torch/_tensor.py:522\u001b[0m, in \u001b[0;36mTensor.backward\u001b[0;34m(self, gradient, retain_graph, create_graph, inputs)\u001b[0m\n\u001b[1;32m    512\u001b[0m \u001b[38;5;28;01mif\u001b[39;00m has_torch_function_unary(\u001b[38;5;28mself\u001b[39m):\n\u001b[1;32m    513\u001b[0m     \u001b[38;5;28;01mreturn\u001b[39;00m handle_torch_function(\n\u001b[1;32m    514\u001b[0m         Tensor\u001b[38;5;241m.\u001b[39mbackward,\n\u001b[1;32m    515\u001b[0m         (\u001b[38;5;28mself\u001b[39m,),\n\u001b[0;32m   (...)\u001b[0m\n\u001b[1;32m    520\u001b[0m         inputs\u001b[38;5;241m=\u001b[39minputs,\n\u001b[1;32m    521\u001b[0m     )\n\u001b[0;32m--> 522\u001b[0m \u001b[43mtorch\u001b[49m\u001b[38;5;241;43m.\u001b[39;49m\u001b[43mautograd\u001b[49m\u001b[38;5;241;43m.\u001b[39;49m\u001b[43mbackward\u001b[49m\u001b[43m(\u001b[49m\n\u001b[1;32m    523\u001b[0m \u001b[43m    \u001b[49m\u001b[38;5;28;43mself\u001b[39;49m\u001b[43m,\u001b[49m\u001b[43m \u001b[49m\u001b[43mgradient\u001b[49m\u001b[43m,\u001b[49m\u001b[43m \u001b[49m\u001b[43mretain_graph\u001b[49m\u001b[43m,\u001b[49m\u001b[43m \u001b[49m\u001b[43mcreate_graph\u001b[49m\u001b[43m,\u001b[49m\u001b[43m \u001b[49m\u001b[43minputs\u001b[49m\u001b[38;5;241;43m=\u001b[39;49m\u001b[43minputs\u001b[49m\n\u001b[1;32m    524\u001b[0m \u001b[43m\u001b[49m\u001b[43m)\u001b[49m\n",
      "File \u001b[0;32m~/anaconda3/envs/its530_py38/lib/python3.8/site-packages/torch/autograd/__init__.py:266\u001b[0m, in \u001b[0;36mbackward\u001b[0;34m(tensors, grad_tensors, retain_graph, create_graph, grad_variables, inputs)\u001b[0m\n\u001b[1;32m    261\u001b[0m     retain_graph \u001b[38;5;241m=\u001b[39m create_graph\n\u001b[1;32m    263\u001b[0m \u001b[38;5;66;03m# The reason we repeat the same comment below is that\u001b[39;00m\n\u001b[1;32m    264\u001b[0m \u001b[38;5;66;03m# some Python versions print out the first line of a multi-line function\u001b[39;00m\n\u001b[1;32m    265\u001b[0m \u001b[38;5;66;03m# calls in the traceback and some print out the last line\u001b[39;00m\n\u001b[0;32m--> 266\u001b[0m \u001b[43mVariable\u001b[49m\u001b[38;5;241;43m.\u001b[39;49m\u001b[43m_execution_engine\u001b[49m\u001b[38;5;241;43m.\u001b[39;49m\u001b[43mrun_backward\u001b[49m\u001b[43m(\u001b[49m\u001b[43m  \u001b[49m\u001b[38;5;66;43;03m# Calls into the C++ engine to run the backward pass\u001b[39;49;00m\n\u001b[1;32m    267\u001b[0m \u001b[43m    \u001b[49m\u001b[43mtensors\u001b[49m\u001b[43m,\u001b[49m\n\u001b[1;32m    268\u001b[0m \u001b[43m    \u001b[49m\u001b[43mgrad_tensors_\u001b[49m\u001b[43m,\u001b[49m\n\u001b[1;32m    269\u001b[0m \u001b[43m    \u001b[49m\u001b[43mretain_graph\u001b[49m\u001b[43m,\u001b[49m\n\u001b[1;32m    270\u001b[0m \u001b[43m    \u001b[49m\u001b[43mcreate_graph\u001b[49m\u001b[43m,\u001b[49m\n\u001b[1;32m    271\u001b[0m \u001b[43m    \u001b[49m\u001b[43minputs\u001b[49m\u001b[43m,\u001b[49m\n\u001b[1;32m    272\u001b[0m \u001b[43m    \u001b[49m\u001b[43mallow_unreachable\u001b[49m\u001b[38;5;241;43m=\u001b[39;49m\u001b[38;5;28;43;01mTrue\u001b[39;49;00m\u001b[43m,\u001b[49m\n\u001b[1;32m    273\u001b[0m \u001b[43m    \u001b[49m\u001b[43maccumulate_grad\u001b[49m\u001b[38;5;241;43m=\u001b[39;49m\u001b[38;5;28;43;01mTrue\u001b[39;49;00m\u001b[43m,\u001b[49m\n\u001b[1;32m    274\u001b[0m \u001b[43m\u001b[49m\u001b[43m)\u001b[49m\n",
      "\u001b[0;31mKeyboardInterrupt\u001b[0m: "
     ]
    }
   ],
   "source": [
    "G_model     =  basic_generator(pixels, in_sz=100+num_classes*certainty_repeater, n_channels=channels, n_extra_layers=1)# Generator_Net()\n",
    "\n",
    "# G_model     = Generator_DL_Net()\n",
    "\n",
    "D_model     =    basic_critic(\n",
    "                    pixels, \n",
    "                    n_channels=channels, \n",
    "                    n_extra_layers=1, \n",
    "                    act_cls=partial(  nn.LeakyReLU, negative_slope=0.2)\n",
    ")#\n",
    "\n",
    "D_model     = Critic(channels_img=channels, features_d=pixels)\n",
    "\n",
    "# D_model = CriticNet()\n",
    "\n",
    "## D_loss_fn   = nn.CrossEntropyLoss( )  \n",
    "## D_loss_fn   = F.mse_loss\n",
    "\n",
    "D_loss_fn = wasserstein_loss\n",
    "# use a loss function that supports values between -1 and 1\n",
    "# D_loss_fn = nn.BCEWithLogitsLoss()\n",
    "\n",
    "G_opt       = torch.optim.Adam( G_model.parameters(), lr=learning_rate, betas=(0.0, 0.9) )\n",
    "D_opt       = torch.optim.Adam( D_model.parameters(), lr=learning_rate, betas=(0.0, 0.9) )\n",
    "\n",
    "# move everything to device\n",
    "G_model.to(device)\n",
    "D_model.to(device)\n",
    "# D_loss_fn.to(device)\n",
    "\n",
    "training_loop(  N_Epochs, G_model, D_model, D_loss_fn, G_opt, D_opt )\n"
   ]
  },
  {
   "cell_type": "code",
   "execution_count": 85,
   "metadata": {},
   "outputs": [
    {
     "data": {
      "image/png": "[encoded data removed]",
      "text/plain": [
       "<Figure size 640x480 with 1 Axes>"
      ]
     },
     "metadata": {},
     "output_type": "display_data"
    }
   ],
   "source": [
    "plot_GAN_losses(list_losses_fake)"
   ]
  },
  {
   "cell_type": "code",
   "execution_count": null,
   "metadata": {},
   "outputs": [
    {
     "name": "stdout",
     "output_type": "stream",
     "text": [
      "torch.Size([1, 18])\n"
     ]
    }
   ],
   "source": [
    "label = 0\n",
    "        \n",
    "label_tensor = torch.zeros((num_classes)).to(device)\n",
    "label_tensor[label] = 1.0\n",
    "\n",
    "label_tensor = label_tensor.unsqueeze(0)\n",
    "label_tensor = label_tensor.repeat(1, certainty_repeater)\n",
    "print(label_tensor.shape)\n",
    "\n",
    "# label_tensor = label_tensor.repeat(4, 32, 1).permute(0, 1, 2)\n",
    "# label_tensor.shape"
   ]
  },
  {
   "cell_type": "code",
   "execution_count": 115,
   "metadata": {},
   "outputs": [
    {
     "name": "stdout",
     "output_type": "stream",
     "text": [
      "hidden_states[0][0][:8]=tensor([-0.0015, -0.0178, -0.0162,  0.0288, -0.0063, -0.0032, -0.0531, -0.0306],\n",
      "       device='mps:0')\n",
      "hidden_states[0][0][:8]=tensor([-0.0447,  0.0114, -0.0142,  0.0005, -0.0140, -0.0106, -0.0452, -0.0013],\n",
      "       device='mps:0')\n",
      "hidden_states[0][0][:8]=tensor([-0.0175, -0.0116, -0.0140,  0.0120, -0.0203, -0.0120, -0.0069, -0.0127],\n",
      "       device='mps:0')\n",
      "hidden_states[0][0][:8]=tensor([-0.0101,  0.0094,  0.0015,  0.0082, -0.0417, -0.0126, -0.0641, -0.0098],\n",
      "       device='mps:0')\n",
      "hidden_states[0][0][:8]=tensor([-0.0240,  0.0237, -0.0128, -0.0139, -0.0643, -0.0166, -0.0625, -0.0396],\n",
      "       device='mps:0')\n",
      "hidden_states[0][0][:8]=tensor([-0.1947,  0.4395,  0.2357,  0.1752, -0.1550,  0.2313, -0.1368, -0.4409],\n",
      "       device='mps:0')\n",
      "torch.Size([1, 18])\n"
     ]
    }
   ],
   "source": [
    "from sentence_transformers import SentenceTransformer, util\n",
    "\n",
    "model = SentenceTransformer('sentence-transformers/all-MiniLM-L6-v2')\n",
    "\n",
    "#Compute embedding for both lists\n",
    "embedding = model.encode('stone sword', convert_to_tensor=True)\n",
    "compressor = nn.Linear(384, 18).to('mps')\n",
    "label_tensor = compressor(embedding).unsqueeze(0).cpu()\n",
    "print(label_tensor.shape)"
   ]
  },
  {
   "cell_type": "code",
   "execution_count": 117,
   "metadata": {},
   "outputs": [
    {
     "name": "stderr",
     "output_type": "stream",
     "text": [
      "/var/folders/8v/kyhpjx6d3y1b7dp0twz_83sw0000gn/T/ipykernel_73494/2723397247.py:20: RuntimeWarning: invalid value encountered in cast\n",
      "  img = Image.fromarray((img * 255).astype(np.uint8)[0])\n"
     ]
    },
    {
     "data": {
      "image/png": "[encoded data removed]",
      "text/plain": [
       "<Figure size 1600x800 with 6 Axes>"
      ]
     },
     "metadata": {},
     "output_type": "display_data"
    }
   ],
   "source": [
    "f, axarr = plt.subplots(2,3, figsize=(16,8))\n",
    "\n",
    "for i in range(2):\n",
    "    for j in range(3):\n",
    "        rand = random_G_vector_input().unsqueeze(0)\n",
    "        # print(rand.shape)\n",
    "\n",
    "        inputs = torch.cat( (rand, label_tensor) , dim=1)\n",
    "        output = G_model.forward( inputs).cpu()\n",
    "        # convert output (batch, img_size) to (batch, 4, 32, 32)\n",
    "        if channels == 4 or channels == 3:\n",
    "            output = output.reshape((-1, channels, pixels, pixels))\n",
    "            img = output.permute(0, 2, 3, 1).detach().numpy()#.reshape(pixels,pixels)\n",
    "        elif channels == 1:\n",
    "            output = output.reshape((-1, pixels, pixels))\n",
    "            img = output.detach().numpy()\n",
    "\n",
    "        # print(img.shape)\n",
    "        # convert img to pil\n",
    "        img = Image.fromarray((img * 255).astype(np.uint8)[0])\n",
    "        # display the image\n",
    "        # plt.imshow(img)\n",
    "        axarr[i,j].imshow(img)#, interpolation='none', cmap='Blues'"
   ]
  }
 ],
 "metadata": {
  "kernelspec": {
   "display_name": "its530_py38",
   "language": "python",
   "name": "python3"
  },
  "language_info": {
   "codemirror_mode": {
    "name": "ipython",
    "version": 3
   },
   "file_extension": ".py",
   "mimetype": "text/x-python",
   "name": "python",
   "nbconvert_exporter": "python",
   "pygments_lexer": "ipython3",
   "version": "3.8.18"
  }
 },
 "nbformat": 4,
 "nbformat_minor": 2
}
