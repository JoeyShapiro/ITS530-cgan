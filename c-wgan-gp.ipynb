{
 "cells": [
  {
   "cell_type": "markdown",
   "metadata": {},
   "source": [
    "## Notable links\n",
    "[GitHub](https://github.com/JoeyShapiro/ITS530-cgan/tree/main)\n",
    "NOTE: That wgan is my attempt at adding embeddings"
   ]
  },
  {
   "cell_type": "markdown",
   "metadata": {},
   "source": [
    "### NOTES\n",
    "[wgan](https://www.youtube.com/watch?v=pG0QZ7OddX4)\n",
    "### TODO\n",
    "- scale data better\n",
    "- add embedder\n",
    "- add everything here"
   ]
  },
  {
   "cell_type": "markdown",
   "metadata": {},
   "source": [
    "## Embedder"
   ]
  },
  {
   "cell_type": "code",
   "execution_count": 1,
   "metadata": {},
   "outputs": [
    {
     "data": {
      "text/plain": [
       "[{'texts': ('stone sword', 'stone sword'), 'similarity': 1.0},\n",
       " {'texts': ('stone sword', 'sword stone'), 'similarity': 1.0},\n",
       " {'texts': ('stone sword', 'diamond sword'), 'similarity': 0.5},\n",
       " {'texts': ('stone sword', 'sword diamond'), 'similarity': 0.5},\n",
       " {'texts': ('stone sword', 'iron sword'), 'similarity': 0.5}]"
      ]
     },
     "metadata": {},
     "output_type": "display_data"
    },
    {
     "name": "stdout",
     "output_type": "stream",
     "text": [
      "3600\n"
     ]
    }
   ],
   "source": [
    "items = [ 'sword', 'pickaxe', 'axe', 'hoe', 'shovel' ]\n",
    "mats = [ 'stone', 'diamond', 'iron', 'gold', 'wood', 'netherite' ]\n",
    "combs = []\n",
    "\n",
    "for item in items:\n",
    "    for mat in mats:\n",
    "        combs.append(f\"{mat} {item}\")\n",
    "        combs.append(f\"{item} {mat}\")\n",
    "\n",
    "dataset = []\n",
    "for comb in combs:\n",
    "    for comb2 in combs:\n",
    "        text1 = comb.split(' ')\n",
    "        text2 = comb2.split(' ')\n",
    "        # if text1[0] == text2[0] and text1[1] == text2[1]:\n",
    "        #     similarity = 1\n",
    "        # elif text1[0] == text2[1] and text1[1] != text2[0]:\n",
    "        #     similarity = 0.5\n",
    "        # smart\n",
    "        similarity = 0\n",
    "        for word in text1:\n",
    "            if word in text2:\n",
    "                similarity += 0.5\n",
    "\n",
    "        dataset.append({ 'texts': (comb, comb2), 'similarity': similarity })\n",
    "    \n",
    "display(dataset[:5])\n",
    "print(len(dataset))"
   ]
  },
  {
   "cell_type": "code",
   "execution_count": 2,
   "metadata": {},
   "outputs": [
    {
     "data": {
      "application/vnd.jupyter.widget-view+json": {
       "model_id": "ba97e36066fc4b1c87b0c0c8cd22e1f3",
       "version_major": 2,
       "version_minor": 0
      },
      "text/plain": [
       "Epoch:   0%|          | 0/1 [00:00<?, ?it/s]"
      ]
     },
     "metadata": {},
     "output_type": "display_data"
    },
    {
     "data": {
      "application/vnd.jupyter.widget-view+json": {
       "model_id": "b3444852233e4d858401a3853feb1117",
       "version_major": 2,
       "version_minor": 0
      },
      "text/plain": [
       "Iteration:   0%|          | 0/225 [00:00<?, ?it/s]"
      ]
     },
     "metadata": {},
     "output_type": "display_data"
    }
   ],
   "source": [
    "from sentence_transformers import SentenceTransformer, InputExample, losses\n",
    "from torch.utils.data import DataLoader\n",
    "import torch.nn as nn\n",
    "from sentence_transformers import models\n",
    "\n",
    "word_embedding_model = models.Transformer(\"bert-base-uncased\", max_seq_length=256)\n",
    "pooling_model = models.Pooling(word_embedding_model.get_word_embedding_dimension())\n",
    "dense_model = models.Dense(\n",
    "    in_features=pooling_model.get_sentence_embedding_dimension(),\n",
    "    out_features=18,\n",
    "    activation_function=nn.Tanh(),\n",
    ")\n",
    "\n",
    "model = SentenceTransformer(modules=[word_embedding_model, pooling_model, dense_model])\n",
    "\n",
    "train_examples = [\n",
    "    InputExample(texts=d['texts'], label=d['similarity']) for d in dataset\n",
    "]\n",
    "train_dataloader = DataLoader(train_examples, shuffle=True, batch_size=16)\n",
    "train_loss = losses.CosineSimilarityLoss(model)\n",
    "\n",
    "# Tune the model\n",
    "model.fit(train_objectives=[(train_dataloader, train_loss)], epochs=1, warmup_steps=100)"
   ]
  },
  {
   "cell_type": "code",
   "execution_count": 3,
   "metadata": {},
   "outputs": [
    {
     "name": "stdout",
     "output_type": "stream",
     "text": [
      "tensor([ 0.2215,  0.5099, -0.1680, -0.0275, -0.1095, -0.0127, -0.4784,  0.1671,\n",
      "         0.0630,  0.5942,  0.2614,  0.2800,  0.3229,  0.6554, -0.0815, -0.3525,\n",
      "        -0.1435,  0.0976], device='mps:0')\n",
      "torch.Size([18])\n",
      "torch.Size([18])\n",
      "stone sword ?= I'm full of happiness = tensor([[0.3611]], device='mps:0')\n",
      "stone sword ?= wooden sword = tensor([[0.7109]], device='mps:0')\n",
      "stone sword ?= sword stone = tensor([[0.9820]], device='mps:0')\n",
      "stone sword ?= stone pickaxe = tensor([[0.5643]], device='mps:0')\n",
      "tensor([ 0.2215,  0.5099, -0.1680, -0.0275, -0.1095, -0.0127, -0.4784,  0.1671,\n",
      "         0.0630,  0.5942,  0.2614,  0.2800,  0.3229,  0.6554, -0.0815, -0.3525,\n",
      "        -0.1435,  0.0976], device='mps:0')\n",
      "tensor([ 0.2215,  0.5099, -0.1680, -0.0275, -0.1095, -0.0127, -0.4784,  0.1671,\n",
      "         0.0630,  0.5942,  0.2614,  0.2800,  0.3229,  0.6554, -0.0815, -0.3525,\n",
      "        -0.1435,  0.0976], device='mps:0')\n"
     ]
    }
   ],
   "source": [
    "from sentence_transformers import util\n",
    "\n",
    "sentences = [\"stone sword\", \"I'm full of happiness\", \"wooden sword\", \"sword stone\", \"stone pickaxe\"]\n",
    "\n",
    "#Compute embedding for both lists\n",
    "embedding_1= model.encode(sentences[0], convert_to_tensor=True)\n",
    "embedding_2 = model.encode(sentences[1], convert_to_tensor=True)\n",
    "embedding_3 = model.encode(sentences[2], convert_to_tensor=True)\n",
    "embedding_4 = model.encode(sentences[3], convert_to_tensor=True)\n",
    "embedding_5 = model.encode(sentences[4], convert_to_tensor=True)\n",
    "\n",
    "print(embedding_1)\n",
    "print(embedding_1.shape)\n",
    "print(embedding_2.shape)\n",
    "print(f'{sentences[0]} ?= {sentences[1]} =', util.pytorch_cos_sim(embedding_1, embedding_2))\n",
    "print(f'{sentences[0]} ?= {sentences[2]} =', util.pytorch_cos_sim(embedding_1, embedding_3))\n",
    "print(f'{sentences[0]} ?= {sentences[3]} =', util.pytorch_cos_sim(embedding_1, embedding_4))\n",
    "print(f'{sentences[0]} ?= {sentences[4]} =', util.pytorch_cos_sim(embedding_1, embedding_5))\n",
    "print(model.encode(sentences[0], convert_to_tensor=True))\n",
    "print(model.encode(sentences[0], convert_to_tensor=True))"
   ]
  },
  {
   "cell_type": "code",
   "execution_count": 53,
   "metadata": {},
   "outputs": [
    {
     "name": "stdout",
     "output_type": "stream",
     "text": [
      "stone sword ?= I'm full of happiness = tensor([[0.3611]], device='mps:0')\n",
      "stone sword ?= I'm full of happiness = tensor([[0.9616]], device='mps:0')\n"
     ]
    }
   ],
   "source": [
    "embedding_1 = model.encode(sentences[0], convert_to_tensor=True)\n",
    "embedding_2 = model.encode(sentences[1], convert_to_tensor=True)\n",
    "print(f'{sentences[0]} ?= {sentences[1]} =', util.pytorch_cos_sim(embedding_1, embedding_2))\n",
    "\n",
    "embedding_1= (model.encode(sentences[0], convert_to_tensor=True) + 1) / 2\n",
    "embedding_2 = (model.encode(sentences[1], convert_to_tensor=True) + 1) / 2\n",
    "\n",
    "print(f'{sentences[0]} ?= {sentences[1]} =', util.pytorch_cos_sim(embedding_1, embedding_2))"
   ]
  },
  {
   "cell_type": "markdown",
   "metadata": {},
   "source": [
    "## GAN"
   ]
  },
  {
   "cell_type": "code",
   "execution_count": 4,
   "metadata": {},
   "outputs": [],
   "source": [
    "\n",
    "import torch\n",
    "import numpy as np\n",
    "import os\n",
    "\n",
    "from torchvision import datasets\n",
    "from torchvision import transforms\n",
    "import torchvision.transforms as T\n",
    "\n",
    "import matplotlib.pyplot as plt\n",
    "import pandas as pd\n",
    "\n",
    "from numpy import genfromtxt\n",
    "\n",
    "from PIL import Image\n",
    "\n",
    "import random\n",
    "\n",
    "# import visiondataset\n",
    "from torchvision.datasets import VisionDataset"
   ]
  },
  {
   "cell_type": "code",
   "execution_count": 5,
   "metadata": {},
   "outputs": [],
   "source": [
    "from sklearn.metrics import confusion_matrix\n",
    "from sklearn.metrics import precision_score, recall_score, accuracy_score, f1_score"
   ]
  },
  {
   "cell_type": "code",
   "execution_count": 6,
   "metadata": {},
   "outputs": [],
   "source": [
    "\n",
    "from torch.utils.data import TensorDataset, DataLoader\n",
    "\n",
    "import torch.optim as optim \n",
    "import torch.nn as nn\n",
    "\n",
    "\n",
    "import torch.nn.functional as F\n",
    "\n",
    "from torch.autograd import Variable\n",
    "\n",
    "from fastai.vision.all import *\n",
    "from fastai.vision.gan import *\n",
    "\n",
    "from fastai.callback.all import *"
   ]
  },
  {
   "cell_type": "code",
   "execution_count": 7,
   "metadata": {},
   "outputs": [],
   "source": [
    "from datasets import load_dataset, Split"
   ]
  },
  {
   "cell_type": "code",
   "execution_count": 8,
   "metadata": {},
   "outputs": [],
   "source": [
    "import torch.autograd as autograd"
   ]
  },
  {
   "cell_type": "code",
   "execution_count": 9,
   "metadata": {},
   "outputs": [
    {
     "name": "stdout",
     "output_type": "stream",
     "text": [
      "img_size=3072\n",
      "device=device(type='mps')\n"
     ]
    }
   ],
   "source": [
    "channels = 3 ## 1 for B&W, 3 for RGB, 4 for RGBA\n",
    "\n",
    "learning_rate    = 2e-4#0.003  ## Adam default   ## 0.001 2e-4#\n",
    "batch_size       = 64\n",
    "N_Epochs         = 1_000#4_000  ##27000  \n",
    "num_classes = 3\n",
    "pixels = 32\n",
    "img_size = pixels*pixels*channels\n",
    "certainty_repeater = 6# channels**2 - num_classes\n",
    "print(f\"{img_size=}\")\n",
    "\n",
    "if torch.cuda.is_available():\n",
    "    device = torch.device('cuda')\n",
    "elif torch.backends.mps is not None:\n",
    "    device = torch.device('mps')\n",
    "    os.environ['PYTORCH_ENABLE_MPS_FALLBACK'] = '1'\n",
    "else:\n",
    "    device = torch.device('cpu')\n",
    "    # print a warning that cpu is being used\n",
    "    print(\"Warning: Running on CPU. This will be slow.\")\n",
    "print(f\"{device=}\")\n",
    "# device = 'cpu' # something didnt work for mps"
   ]
  },
  {
   "cell_type": "code",
   "execution_count": 10,
   "metadata": {},
   "outputs": [],
   "source": [
    "import pickle\n",
    "from typing import Any, Callable, Dict, List, Optional, Tuple, Union\n",
    "\n",
    "class MyDataset(VisionDataset):\n",
    "    classes = [\n",
    "        'sword',\n",
    "        'pickaxe',\n",
    "        'axe',\n",
    "        'hoe',\n",
    "        'shovel'\n",
    "    ]\n",
    "\n",
    "    def __init__(\n",
    "        self,\n",
    "        root: str = \"mc-dataset.pkl\",\n",
    "        train: bool = True,\n",
    "        transform: Optional[Callable] = None,\n",
    "        target_transform: Optional[Callable] = None,\n",
    "    ) -> None:\n",
    "        super().__init__(root, transform=transform, target_transform=target_transform)\n",
    "        self.train = train  # training set or test set\n",
    "\n",
    "        self.data, self.targets, self.names = self._load_data()\n",
    "\n",
    "    def __getitem__(self, index: int) -> Tuple[Any, Any]:\n",
    "        \"\"\"\n",
    "        Args:\n",
    "            index (int): Index\n",
    "\n",
    "        Returns:\n",
    "            tuple: (image, target) where target is index of the target class.\n",
    "        \"\"\"\n",
    "        img, target, name = self.data[index], int(self.targets[index]), self.names[index]\n",
    "\n",
    "        # doing this so that it is consistent with all other datasets\n",
    "        # to return a PIL Image\n",
    "        # img = Image.fromarray(img.numpy().astype(np.uint8))\n",
    "\n",
    "        if self.transform is not None:\n",
    "            img = self.transform(img)\n",
    "\n",
    "        if self.target_transform is not None:\n",
    "            target = self.target_transform(target)\n",
    "\n",
    "        return img, target, name\n",
    "\n",
    "    def __len__(self) -> int:\n",
    "        return len(self.data)\n",
    "    \n",
    "    def _load_data(self):\n",
    "        with open('mc-dataset.pkl', 'rb') as f:\n",
    "            data = pickle.load(f)\n",
    "        \n",
    "        imgs = []\n",
    "        labels = []\n",
    "        names = []\n",
    "        for i in range(len(data)):\n",
    "            imgs.append(torch.Tensor(data[i][0]))\n",
    "            labels.append(data[i][1])\n",
    "            names.append(data[i][2])\n",
    "\n",
    "        # if self.train:\n",
    "        #     data = data[0]\n",
    "        # else:\n",
    "        #     data = data[1]\n",
    "        return imgs, labels, names"
   ]
  },
  {
   "cell_type": "code",
   "execution_count": 44,
   "metadata": {},
   "outputs": [
    {
     "name": "stdout",
     "output_type": "stream",
     "text": [
      "img.shape=torch.Size([32, 32, 3]) label=1 name.shape=torch.Size([18])\n",
      "tensor([0.1440, 0.4295, 0.4584, 0.6453, 0.4134, 0.5527, 0.6948, 0.3193, 0.4091,\n",
      "        0.7510, 0.5828, 0.2258, 0.4615, 0.3904, 0.5212, 0.4075, 0.5465, 0.2327])\n"
     ]
    },
    {
     "data": {
      "text/plain": [
       "<matplotlib.image.AxesImage at 0x4505e57f0>"
      ]
     },
     "execution_count": 44,
     "metadata": {},
     "output_type": "execute_result"
    },
    {
     "data": {
      "image/png": "[encoded data removed]",
      "text/plain": [
       "<Figure size 640x480 with 1 Axes>"
      ]
     },
     "metadata": {},
     "output_type": "display_data"
    }
   ],
   "source": [
    "# df = pd.DataFrame(dataset.reshape((dataset.shape[0], 32*32)))\n",
    "# df.to_csv(f\"{data}-dataset.csv\", index=False, header=False)\n",
    "\n",
    "# load the dataset\n",
    "dataset = MyDataset()\n",
    "\n",
    "# load the first image in the dataset\n",
    "# print(dataset[5][0])\n",
    "img, label, name = dataset[5]\n",
    "print(f\"{img.shape=} {label=} {name.shape=}\")\n",
    "print(name)\n",
    "img *= 255\n",
    "name *= 255\n",
    "name = name.repeat(channels, pixels, 1).permute(1, 2, 0)\n",
    "img = torch.cat((img, name), dim=1)\n",
    "plt.imshow(Image.fromarray(img.numpy().astype(np.uint8)))"
   ]
  },
  {
   "cell_type": "code",
   "execution_count": 12,
   "metadata": {},
   "outputs": [
    {
     "name": "stdout",
     "output_type": "stream",
     "text": [
      "Label 0: 159\n",
      "Label 1: 123\n",
      "Label 2: 123\n",
      "Label 3: 0\n",
      "Label 4: 0\n"
     ]
    }
   ],
   "source": [
    "# display the split of labels in the dataset\n",
    "for i in range(5):\n",
    "    print(f\"Label {i}: {len([x for x in dataset.targets if x == i])}\")\n",
    "\n",
    "# convert the dataset into a train / test split\n",
    "# TODO i dont think test is used\n",
    "train_dataset, test_dataset = torch.utils.data.random_split(dataset, [0.95, 0.05])\n",
    "\n",
    "# define the dataloader\n",
    "dl_train = DataLoader(train_dataset, batch_size=batch_size, shuffle=True)\n",
    "dl_test = DataLoader(test_dataset, batch_size=batch_size, shuffle=True)"
   ]
  },
  {
   "cell_type": "code",
   "execution_count": 13,
   "metadata": {},
   "outputs": [],
   "source": [
    "\n",
    "def plot_GAN_losses(list_losses_fake):\n",
    "    \n",
    "    the_epochs = [i for i in range(len(list_losses_fake))]  \n",
    "\n",
    "    plt.plot(the_epochs, list_losses_fake,    label = \"fake\") \n",
    "    plt.legend() \n",
    "    plt.show()\n"
   ]
  },
  {
   "cell_type": "code",
   "execution_count": 14,
   "metadata": {},
   "outputs": [],
   "source": [
    "\n",
    "def print_metrics_function(y_test, y_pred):\n",
    "    print('Accuracy: %.2f' % accuracy_score(y_test, y_pred))\n",
    "    confmat = confusion_matrix(y_true=y_test, y_pred=y_pred)\n",
    "    print(\"Confusion Matrix:\")\n",
    "    print(confmat)\n",
    "    print('Precision: %.3f' % precision_score(y_true=y_test, y_pred=y_pred, average='weighted'))\n",
    "    print('Recall: %.3f' % recall_score(y_true=y_test, y_pred=y_pred, average='weighted'))\n",
    "    f1_measure = f1_score(y_true=y_test, y_pred=y_pred, average='weighted')\n",
    "    print('F1-mesure: %.3f' % f1_measure)\n",
    "    return f1_measure, confmat\n"
   ]
  },
  {
   "cell_type": "code",
   "execution_count": 15,
   "metadata": {},
   "outputs": [],
   "source": [
    "def plot_metric_per_epoch(the_scores_list):\n",
    "    x_epochs = []\n",
    "    y_epochs = [] \n",
    "    for i, val in enumerate(the_scores_list):\n",
    "        x_epochs.append(i)\n",
    "        y_epochs.append(val)\n",
    "    \n",
    "    plt.scatter(x_epochs, y_epochs,s=50,c='lightgreen', marker='s', label='score')\n",
    "    plt.xlabel('epoch')\n",
    "    plt.ylabel('score')\n",
    "    plt.title('Score per epoch')\n",
    "    plt.legend()\n",
    "    plt.grid()\n",
    "    plt.show()"
   ]
  },
  {
   "cell_type": "code",
   "execution_count": 16,
   "metadata": {},
   "outputs": [],
   "source": [
    "def random_G_vector_input():\n",
    "    rand_vec = torch.randn( 100 ).to(device)\n",
    "    return rand_vec"
   ]
  },
  {
   "cell_type": "code",
   "execution_count": 17,
   "metadata": {},
   "outputs": [],
   "source": [
    "def random_G_batch_vector_input():\n",
    "    rand_vec = torch.randn( (batch_size, 100 ) ).to(device)\n",
    "    return rand_vec"
   ]
  },
  {
   "cell_type": "code",
   "execution_count": 18,
   "metadata": {},
   "outputs": [],
   "source": [
    "def random_batch_one_hot_rc(batch_size, size):\n",
    "    rand_vec = torch.zeros( (batch_size, num_classes ) ).to(device)\n",
    "    for i in range(batch_size):\n",
    "        random_idx = random.randint(0,size-1)\n",
    "        rand_vec[i, random_idx] = 1.0\n",
    "    return rand_vec"
   ]
  },
  {
   "cell_type": "code",
   "execution_count": 49,
   "metadata": {},
   "outputs": [],
   "source": [
    "list_losses_real    = []\n",
    "list_losses_fake    = []\n",
    "list_losses_tricked = []\n",
    "\n",
    "classes = [\n",
    "    'sword',\n",
    "    'pickaxe',\n",
    "    'axe',\n",
    "    'hoe',\n",
    "    'shovel'\n",
    "]\n",
    "\n",
    "import tqdm\n",
    "\n",
    "def training_loop(  N_Epochs, G_model, D_model, D_loss_fn, G_opt, D_opt   ):\n",
    "    pbar = tqdm.tqdm(range(N_Epochs+1))\n",
    "\n",
    "    for epoch in pbar:\n",
    "        # shuffle dl_train every epoch\n",
    "        dl_train = DataLoader(train_dataset, batch_size=batch_size, shuffle=True)\n",
    "        \n",
    "        for xb, yb, nb in dl_train:              ## xb = [batch, 1, 28, 28]\n",
    "            xb, yb, nb = xb.to(device), yb.to(device), nb.to(device)\n",
    "\n",
    "            if xb.shape[0] != batch_size:\n",
    "                # print(f\"skipping batch of size {xb.shape[0]}\")\n",
    "                continue\n",
    "\n",
    "            if channels == 4 or channels == 3:\n",
    "                xb = xb.permute(0, 3, 1, 2)\n",
    "            xb = torch.squeeze(xb, dim=1)\n",
    "            # TODO how do i deal with this. it was given to 18\n",
    "            yb = F.one_hot(yb, num_classes=num_classes).repeat(1, certainty_repeater).to(device)\n",
    "            yb = nb\n",
    "            print(yb[0])\n",
    "            # convert nb [batch, 384] to [batch, -1, 32, channels]\n",
    "\n",
    "            # TODO what is the shape of this. i might be able to just permute the full nb\n",
    "            yb_certainty = yb.repeat(channels, pixels, 1, 1).permute(2, 0, 1, 3) # [ batch, x (classes), y, channels ]\n",
    "            # yb_certainty = nb.reshape(batch_size, channels, pixels, -1)\n",
    "            real = torch.cat( (xb, yb_certainty) , dim=3)\n",
    "\n",
    "            for _ in range(5):\n",
    "                noise = torch.cat( (random_G_batch_vector_input(), yb) , dim=1)\n",
    "                fake = G_model( noise )#.detach()\n",
    "\n",
    "                real_pred = D_model( real  ).reshape(-1)\n",
    "                \n",
    "                inputs = torch.cat( (fake, yb_certainty) , dim=3)\n",
    "                fake_pred = D_model(  inputs  ).reshape(-1)\n",
    "\n",
    "                fake_loss   = D_loss_fn(D_model, inputs, real, real_pred, fake_pred)\n",
    "                # D_opt.zero_grad()\n",
    "                D_model.zero_grad()\n",
    "                fake_loss.backward(retain_graph=True)\n",
    "                D_opt.step()\n",
    "                \n",
    "            output = D_model( inputs ).reshape(-1)\n",
    "            gen_loss = -torch.mean(output)\n",
    "            G_model.zero_grad()\n",
    "            gen_loss.backward()\n",
    "            G_opt.step()\n",
    "       \n",
    "            \n",
    "        if epoch % 10 == 0:\n",
    "            list_losses_fake.append(        fake_loss.cpu().detach().numpy()  )\n",
    "            D_fake_loss_rnd = np.round(fake_loss.cpu().detach().numpy(), 3)\n",
    "\n",
    "            message = f\"{D_fake_loss_rnd=}\"\n",
    "            pbar.set_description(message)\n",
    "            \n",
    "        # draw an image of each class\n",
    "        # place them all on the same figure\n",
    "        if epoch % 100 == 0:\n",
    "            f, axarr = plt.subplots(nrows=1, ncols=num_classes, figsize=(12,4))\n",
    "            \n",
    "            for i in range(num_classes):\n",
    "                label = torch.tensor([i]).to(device)\n",
    "                label = F.one_hot(label, num_classes=num_classes)\n",
    "                label = label.repeat(1, certainty_repeater)\n",
    "\n",
    "                # create noise and make it 2d\n",
    "                noise = random_G_vector_input().unsqueeze(0)\n",
    "                inputs = torch.cat( (noise, label) , dim=1)\n",
    "                output = G_model( inputs ).cpu()\n",
    "                # convert output (batch, img_size) to (batch, 4, 32, 32)\n",
    "                if channels == 4 or channels == 3:\n",
    "                    # output = output.reshape((-1, 4, pixels, pixels)) # wrong too, lol\n",
    "                    output = output.reshape((-1, channels, pixels, pixels))\n",
    "                    # output = output.reshape((-1, 32, 32))\n",
    "\n",
    "                    img = output.permute(0, 2, 3, 1).detach().numpy()#.reshape(32,32)\n",
    "                elif channels == 1:\n",
    "                    img = output.detach().numpy()\n",
    "\n",
    "                if channels == 4 or channels == 3:\n",
    "                    mode = None\n",
    "                elif channels == 1:\n",
    "                    mode = 'L'\n",
    "\n",
    "                img = Image.fromarray((img * 255).astype(np.uint8)[0], mode=mode)\n",
    "                # display the image\n",
    "                axarr[i].imshow(img)\n",
    "                # place name of class on image\n",
    "                axarr[i].set_title(classes[i])\n",
    "            plt.show()\n",
    "            \n"
   ]
  },
  {
   "cell_type": "code",
   "execution_count": null,
   "metadata": {},
   "outputs": [],
   "source": []
  },
  {
   "cell_type": "code",
   "execution_count": 20,
   "metadata": {},
   "outputs": [],
   "source": [
    "def grad_penatly(critic, real, fake):\n",
    "    # Random weight term for interpolation between real and fake samples\n",
    "    batch, c, h, w = real.shape\n",
    "    epsilon = torch.rand((batch, 1, 1, 1)).repeat(1, c, h, w).to(device)\n",
    "    interpolated_images = real * epsilon + fake * (1 - epsilon)\n",
    "\n",
    "    # Calculate critic scores\n",
    "    mixed_scores = critic(interpolated_images)\n",
    "    gradient = torch.autograd.grad(\n",
    "        inputs=interpolated_images,\n",
    "        outputs=mixed_scores,\n",
    "        grad_outputs=torch.ones_like(mixed_scores),\n",
    "        create_graph=True,\n",
    "        retain_graph=True,\n",
    "    )[0]\n",
    "\n",
    "    # Take the norm of the gradient\n",
    "    gradient = gradient.view(gradient.shape[0], -1)\n",
    "    grad_norm = gradient.norm(2, dim=1) # L2 norm (euclidean norm)\n",
    "    gradient_penalty = torch.mean((grad_norm - 1) ** 2)\n",
    "    return gradient_penalty"
   ]
  },
  {
   "cell_type": "code",
   "execution_count": 21,
   "metadata": {},
   "outputs": [],
   "source": [
    "def wasserstein_loss(D_model, gen_img, real_data, real_pred, fake_pred):\n",
    "    loss =  - (real_pred.mean() - fake_pred.mean()) + 10 * grad_penatly(D_model, real_data, gen_img)\n",
    "    return loss"
   ]
  },
  {
   "cell_type": "code",
   "execution_count": 22,
   "metadata": {},
   "outputs": [],
   "source": [
    "class Critic(nn.Module):\n",
    "    def __init__(self, channels_img, features_d):\n",
    "        super(Critic, self).__init__()\n",
    "        self.critic = nn.Sequential(\n",
    "            nn.Conv2d(channels_img, features_d, kernel_size=2, stride=2, padding=1),\n",
    "            nn.LeakyReLU(0.2),\n",
    "            self._block(features_d, features_d * 2, 2, 2, 1),\n",
    "            self._block(features_d * 2, features_d * 4, 2, 2, 1),\n",
    "            self._block(features_d * 4, features_d * 8, 2, 2, 1),\n",
    "            nn.Conv2d(features_d * 8, 1, kernel_size=2, stride=2, padding=0),\n",
    "        )\n",
    "\n",
    "    def _block(self, in_channels, out_channels, kernel_size, stride, padding):\n",
    "        return nn.Sequential(\n",
    "            nn.Conv2d(\n",
    "                in_channels, out_channels, kernel_size, stride, padding, bias=False\n",
    "            ),\n",
    "            nn.InstanceNorm2d(out_channels, affine=True),\n",
    "            nn.LeakyReLU(0.2),\n",
    "        )\n",
    "    \n",
    "    def forward(self, x):\n",
    "        return self.critic(x)"
   ]
  },
  {
   "cell_type": "code",
   "execution_count": 50,
   "metadata": {},
   "outputs": [
    {
     "name": "stderr",
     "output_type": "stream",
     "text": [
      "  0%|          | 0/1001 [00:00<?, ?it/s]"
     ]
    },
    {
     "name": "stdout",
     "output_type": "stream",
     "text": [
      "tensor([0.5389, 0.5704, 0.5417, 0.5059, 0.5803, 0.5180, 0.4314, 0.6701, 0.3137,\n",
      "        0.4322, 0.5680, 0.5876, 0.5215, 0.4034, 0.4906, 0.4747, 0.6049, 0.5185],\n",
      "       device='mps:0')\n",
      "tensor([0.4606, 0.6105, 0.4292, 0.5612, 0.5604, 0.4943, 0.3818, 0.6132, 0.3052,\n",
      "        0.5286, 0.5458, 0.4616, 0.3783, 0.5159, 0.5156, 0.5393, 0.6700, 0.4155],\n",
      "       device='mps:0')\n",
      "tensor([0.4606, 0.6105, 0.4292, 0.5612, 0.5604, 0.4943, 0.3818, 0.6132, 0.3052,\n",
      "        0.5286, 0.5458, 0.4616, 0.3783, 0.5159, 0.5156, 0.5393, 0.6700, 0.4155],\n",
      "       device='mps:0')\n",
      "tensor([0.1440, 0.4295, 0.4584, 0.6453, 0.4134, 0.5527, 0.6948, 0.3193, 0.4091,\n",
      "        0.7510, 0.5828, 0.2258, 0.4615, 0.3904, 0.5212, 0.4075, 0.5465, 0.2327],\n",
      "       device='mps:0')\n",
      "tensor([0.5389, 0.5704, 0.5417, 0.5059, 0.5803, 0.5180, 0.4314, 0.6701, 0.3137,\n",
      "        0.4322, 0.5680, 0.5876, 0.5215, 0.4034, 0.4906, 0.4747, 0.6049, 0.5185],\n",
      "       device='mps:0')\n",
      "tensor([0.2618, 0.3471, 0.3707, 0.4881, 0.4086, 0.4163, 0.4376, 0.5196, 0.2000,\n",
      "        0.5820, 0.8209, 0.3195, 0.7360, 0.5404, 0.6242, 0.4631, 0.3310, 0.3142],\n",
      "       device='mps:0')\n"
     ]
    },
    {
     "name": "stderr",
     "output_type": "stream",
     "text": [
      "D_fake_loss_rnd=1.906:   0%|          | 0/1001 [00:00<?, ?it/s]/var/folders/8v/kyhpjx6d3y1b7dp0twz_83sw0000gn/T/ipykernel_17776/3791988619.py:101: RuntimeWarning: invalid value encountered in cast\n",
      "  img = Image.fromarray((img * 255).astype(np.uint8)[0], mode=mode)\n"
     ]
    },
    {
     "data": {
      "image/png": "[encoded data removed]",
      "text/plain": [
       "<Figure size 1200x400 with 3 Axes>"
      ]
     },
     "metadata": {},
     "output_type": "display_data"
    },
    {
     "name": "stderr",
     "output_type": "stream",
     "text": [
      "D_fake_loss_rnd=1.906:   0%|          | 1/1001 [00:00<14:40,  1.14it/s]"
     ]
    },
    {
     "name": "stdout",
     "output_type": "stream",
     "text": [
      "tensor([0.5389, 0.5704, 0.5417, 0.5059, 0.5803, 0.5180, 0.4314, 0.6701, 0.3137,\n",
      "        0.4322, 0.5680, 0.5876, 0.5215, 0.4034, 0.4906, 0.4747, 0.6049, 0.5185],\n",
      "       device='mps:0')\n",
      "tensor([0.5389, 0.5704, 0.5417, 0.5059, 0.5803, 0.5180, 0.4314, 0.6701, 0.3137,\n",
      "        0.4322, 0.5680, 0.5876, 0.5215, 0.4034, 0.4906, 0.4747, 0.6049, 0.5185],\n",
      "       device='mps:0')\n",
      "tensor([0.3573, 0.5438, 0.4419, 0.6605, 0.5546, 0.7321, 0.3912, 0.6501, 0.3605,\n",
      "        0.4927, 0.5672, 0.4342, 0.3636, 0.3881, 0.7376, 0.5744, 0.5027, 0.7292],\n",
      "       device='mps:0')\n",
      "tensor([0.1439, 0.5874, 0.5731, 0.6635, 0.4935, 0.7038, 0.6067, 0.5829, 0.6530,\n",
      "        0.5732, 0.6105, 0.1692, 0.2992, 0.3678, 0.6380, 0.4087, 0.6454, 0.6176],\n",
      "       device='mps:0')\n",
      "tensor([0.2102, 0.5263, 0.5296, 0.5416, 0.5616, 0.5808, 0.4252, 0.7912, 0.5196,\n",
      "        0.4536, 0.7706, 0.2790, 0.5050, 0.4269, 0.7060, 0.4864, 0.5019, 0.7146],\n",
      "       device='mps:0')\n",
      "tensor([0.5389, 0.5704, 0.5417, 0.5059, 0.5803, 0.5180, 0.4314, 0.6701, 0.3137,\n",
      "        0.4322, 0.5680, 0.5876, 0.5215, 0.4034, 0.4906, 0.4747, 0.6049, 0.5185],\n",
      "       device='mps:0')\n"
     ]
    },
    {
     "name": "stderr",
     "output_type": "stream",
     "text": [
      "D_fake_loss_rnd=1.906:   0%|          | 2/1001 [00:01<13:10,  1.26it/s]"
     ]
    },
    {
     "name": "stdout",
     "output_type": "stream",
     "text": [
      "tensor([0.2102, 0.5263, 0.5296, 0.5416, 0.5616, 0.5808, 0.4252, 0.7912, 0.5196,\n",
      "        0.4536, 0.7706, 0.2790, 0.5050, 0.4269, 0.7060, 0.4864, 0.5019, 0.7146],\n",
      "       device='mps:0')\n",
      "tensor([0.3503, 0.5811, 0.7366, 0.5169, 0.5646, 0.3957, 0.3360, 0.5628, 0.3724,\n",
      "        0.3026, 0.8325, 0.4773, 0.4635, 0.4828, 0.5091, 0.4382, 0.5580, 0.3658],\n",
      "       device='mps:0')\n",
      "tensor([0.1439, 0.5874, 0.5731, 0.6635, 0.4935, 0.7038, 0.6067, 0.5829, 0.6530,\n",
      "        0.5732, 0.6105, 0.1692, 0.2992, 0.3678, 0.6380, 0.4087, 0.6454, 0.6176],\n",
      "       device='mps:0')\n",
      "tensor([0.5389, 0.5704, 0.5417, 0.5059, 0.5803, 0.5180, 0.4314, 0.6701, 0.3137,\n",
      "        0.4322, 0.5680, 0.5876, 0.5215, 0.4034, 0.4906, 0.4747, 0.6049, 0.5185],\n",
      "       device='mps:0')\n",
      "tensor([0.1439, 0.5874, 0.5731, 0.6635, 0.4935, 0.7038, 0.6067, 0.5829, 0.6530,\n",
      "        0.5732, 0.6105, 0.1692, 0.2992, 0.3678, 0.6380, 0.4087, 0.6454, 0.6176],\n",
      "       device='mps:0')\n",
      "tensor([0.5389, 0.5704, 0.5417, 0.5059, 0.5803, 0.5180, 0.4314, 0.6701, 0.3137,\n",
      "        0.4322, 0.5680, 0.5876, 0.5215, 0.4034, 0.4906, 0.4747, 0.6049, 0.5185],\n",
      "       device='mps:0')\n"
     ]
    },
    {
     "name": "stderr",
     "output_type": "stream",
     "text": [
      "D_fake_loss_rnd=1.906:   0%|          | 3/1001 [00:02<12:36,  1.32it/s]"
     ]
    },
    {
     "name": "stdout",
     "output_type": "stream",
     "text": [
      "tensor([0.2694, 0.5717, 0.7109, 0.6172, 0.6328, 0.5256, 0.5620, 0.3303, 0.5168,\n",
      "        0.4482, 0.7850, 0.4481, 0.2323, 0.4558, 0.3892, 0.3947, 0.7343, 0.3243],\n",
      "       device='mps:0')\n",
      "tensor([0.4606, 0.6105, 0.4292, 0.5612, 0.5604, 0.4943, 0.3818, 0.6132, 0.3052,\n",
      "        0.5286, 0.5458, 0.4616, 0.3783, 0.5159, 0.5156, 0.5393, 0.6700, 0.4155],\n",
      "       device='mps:0')\n",
      "tensor([0.3573, 0.5438, 0.4419, 0.6605, 0.5546, 0.7321, 0.3912, 0.6501, 0.3605,\n",
      "        0.4927, 0.5672, 0.4342, 0.3636, 0.3881, 0.7376, 0.5744, 0.5027, 0.7292],\n",
      "       device='mps:0')\n",
      "tensor([0.5389, 0.5704, 0.5417, 0.5059, 0.5803, 0.5180, 0.4314, 0.6701, 0.3137,\n",
      "        0.4322, 0.5680, 0.5876, 0.5215, 0.4034, 0.4906, 0.4747, 0.6049, 0.5185],\n",
      "       device='mps:0')\n",
      "tensor([0.2694, 0.5717, 0.7109, 0.6172, 0.6328, 0.5256, 0.5620, 0.3303, 0.5168,\n",
      "        0.4482, 0.7850, 0.4481, 0.2323, 0.4558, 0.3892, 0.3947, 0.7343, 0.3243],\n",
      "       device='mps:0')\n",
      "tensor([0.3308, 0.4670, 0.6162, 0.4823, 0.5119, 0.4115, 0.4212, 0.5319, 0.4138,\n",
      "        0.4051, 0.8079, 0.5057, 0.5065, 0.4519, 0.5160, 0.4808, 0.6416, 0.4520],\n",
      "       device='mps:0')\n"
     ]
    },
    {
     "name": "stderr",
     "output_type": "stream",
     "text": [
      "D_fake_loss_rnd=1.906:   0%|          | 4/1001 [00:03<12:14,  1.36it/s]"
     ]
    },
    {
     "name": "stdout",
     "output_type": "stream",
     "text": [
      "tensor([0.1440, 0.4295, 0.4584, 0.6453, 0.4134, 0.5527, 0.6948, 0.3193, 0.4091,\n",
      "        0.7510, 0.5828, 0.2258, 0.4615, 0.3904, 0.5212, 0.4075, 0.5465, 0.2327],\n",
      "       device='mps:0')\n",
      "tensor([0.5389, 0.5704, 0.5417, 0.5059, 0.5803, 0.5180, 0.4314, 0.6701, 0.3137,\n",
      "        0.4322, 0.5680, 0.5876, 0.5215, 0.4034, 0.4906, 0.4747, 0.6049, 0.5185],\n",
      "       device='mps:0')\n",
      "tensor([0.5389, 0.5704, 0.5417, 0.5059, 0.5803, 0.5180, 0.4314, 0.6701, 0.3137,\n",
      "        0.4322, 0.5680, 0.5876, 0.5215, 0.4034, 0.4906, 0.4747, 0.6049, 0.5185],\n",
      "       device='mps:0')\n",
      "tensor([0.1440, 0.4295, 0.4584, 0.6453, 0.4134, 0.5527, 0.6948, 0.3193, 0.4091,\n",
      "        0.7510, 0.5828, 0.2258, 0.4615, 0.3904, 0.5212, 0.4075, 0.5465, 0.2327],\n",
      "       device='mps:0')\n",
      "tensor([0.2102, 0.5263, 0.5296, 0.5416, 0.5616, 0.5808, 0.4252, 0.7912, 0.5196,\n",
      "        0.4536, 0.7706, 0.2790, 0.5050, 0.4269, 0.7060, 0.4864, 0.5019, 0.7146],\n",
      "       device='mps:0')\n",
      "tensor([0.3503, 0.5811, 0.7366, 0.5169, 0.5646, 0.3957, 0.3360, 0.5628, 0.3724,\n",
      "        0.3026, 0.8325, 0.4773, 0.4635, 0.4828, 0.5091, 0.4382, 0.5580, 0.3658],\n",
      "       device='mps:0')\n"
     ]
    },
    {
     "name": "stderr",
     "output_type": "stream",
     "text": [
      "D_fake_loss_rnd=1.906:   0%|          | 5/1001 [00:03<12:00,  1.38it/s]"
     ]
    },
    {
     "name": "stdout",
     "output_type": "stream",
     "text": [
      "tensor([0.3573, 0.5438, 0.4419, 0.6605, 0.5546, 0.7321, 0.3912, 0.6501, 0.3605,\n",
      "        0.4927, 0.5672, 0.4342, 0.3636, 0.3881, 0.7376, 0.5744, 0.5027, 0.7292],\n",
      "       device='mps:0')\n",
      "tensor([0.4612, 0.6630, 0.5373, 0.5283, 0.5609, 0.4844, 0.4513, 0.6239, 0.3709,\n",
      "        0.4475, 0.6223, 0.5930, 0.5527, 0.4313, 0.3900, 0.4316, 0.6447, 0.4944],\n",
      "       device='mps:0')\n",
      "tensor([0.3573, 0.5438, 0.4419, 0.6605, 0.5546, 0.7321, 0.3912, 0.6501, 0.3605,\n",
      "        0.4927, 0.5672, 0.4342, 0.3636, 0.3881, 0.7376, 0.5744, 0.5027, 0.7292],\n",
      "       device='mps:0')\n",
      "tensor([0.5389, 0.5704, 0.5417, 0.5059, 0.5803, 0.5180, 0.4314, 0.6701, 0.3137,\n",
      "        0.4322, 0.5680, 0.5876, 0.5215, 0.4034, 0.4906, 0.4747, 0.6049, 0.5185],\n",
      "       device='mps:0')\n",
      "tensor([0.1439, 0.5874, 0.5731, 0.6635, 0.4935, 0.7038, 0.6067, 0.5829, 0.6530,\n",
      "        0.5732, 0.6105, 0.1692, 0.2992, 0.3678, 0.6380, 0.4087, 0.6454, 0.6176],\n",
      "       device='mps:0')\n",
      "tensor([0.3573, 0.5438, 0.4419, 0.6605, 0.5546, 0.7321, 0.3912, 0.6501, 0.3605,\n",
      "        0.4927, 0.5672, 0.4342, 0.3636, 0.3881, 0.7376, 0.5744, 0.5027, 0.7292],\n",
      "       device='mps:0')\n"
     ]
    },
    {
     "name": "stderr",
     "output_type": "stream",
     "text": [
      "D_fake_loss_rnd=1.906:   1%|          | 6/1001 [00:04<11:52,  1.40it/s]"
     ]
    },
    {
     "name": "stdout",
     "output_type": "stream",
     "text": [
      "tensor([0.2694, 0.5717, 0.7109, 0.6172, 0.6328, 0.5256, 0.5620, 0.3303, 0.5168,\n",
      "        0.4482, 0.7850, 0.4481, 0.2323, 0.4558, 0.3892, 0.3947, 0.7343, 0.3243],\n",
      "       device='mps:0')\n",
      "tensor([0.2618, 0.3471, 0.3707, 0.4881, 0.4086, 0.4163, 0.4376, 0.5196, 0.2000,\n",
      "        0.5820, 0.8209, 0.3195, 0.7360, 0.5404, 0.6242, 0.4631, 0.3310, 0.3142],\n",
      "       device='mps:0')\n",
      "tensor([0.4606, 0.6105, 0.4292, 0.5612, 0.5604, 0.4943, 0.3818, 0.6132, 0.3052,\n",
      "        0.5286, 0.5458, 0.4616, 0.3783, 0.5159, 0.5156, 0.5393, 0.6700, 0.4155],\n",
      "       device='mps:0')\n",
      "tensor([0.2420, 0.4608, 0.4817, 0.6300, 0.4954, 0.5939, 0.5616, 0.5107, 0.6117,\n",
      "        0.6061, 0.6420, 0.2671, 0.3989, 0.3344, 0.6261, 0.5166, 0.7043, 0.6492],\n",
      "       device='mps:0')\n",
      "tensor([0.3573, 0.5438, 0.4419, 0.6605, 0.5546, 0.7321, 0.3912, 0.6501, 0.3605,\n",
      "        0.4927, 0.5672, 0.4342, 0.3636, 0.3881, 0.7376, 0.5744, 0.5027, 0.7292],\n",
      "       device='mps:0')\n",
      "tensor([0.5389, 0.5704, 0.5417, 0.5059, 0.5803, 0.5180, 0.4314, 0.6701, 0.3137,\n",
      "        0.4322, 0.5680, 0.5876, 0.5215, 0.4034, 0.4906, 0.4747, 0.6049, 0.5185],\n",
      "       device='mps:0')\n"
     ]
    },
    {
     "name": "stderr",
     "output_type": "stream",
     "text": [
      "D_fake_loss_rnd=1.906:   1%|          | 7/1001 [00:05<11:51,  1.40it/s]"
     ]
    },
    {
     "name": "stdout",
     "output_type": "stream",
     "text": [
      "tensor([0.3573, 0.5438, 0.4419, 0.6605, 0.5546, 0.7321, 0.3912, 0.6501, 0.3605,\n",
      "        0.4927, 0.5672, 0.4342, 0.3636, 0.3881, 0.7376, 0.5744, 0.5027, 0.7292],\n",
      "       device='mps:0')\n",
      "tensor([0.2694, 0.5717, 0.7109, 0.6172, 0.6328, 0.5256, 0.5620, 0.3303, 0.5168,\n",
      "        0.4482, 0.7850, 0.4481, 0.2323, 0.4558, 0.3892, 0.3947, 0.7343, 0.3243],\n",
      "       device='mps:0')\n",
      "tensor([0.4606, 0.6105, 0.4292, 0.5612, 0.5604, 0.4943, 0.3818, 0.6132, 0.3052,\n",
      "        0.5286, 0.5458, 0.4616, 0.3783, 0.5159, 0.5156, 0.5393, 0.6700, 0.4155],\n",
      "       device='mps:0')\n",
      "tensor([0.1439, 0.5874, 0.5731, 0.6635, 0.4935, 0.7038, 0.6067, 0.5829, 0.6530,\n",
      "        0.5732, 0.6105, 0.1692, 0.2992, 0.3678, 0.6380, 0.4087, 0.6454, 0.6176],\n",
      "       device='mps:0')\n",
      "tensor([0.2102, 0.5263, 0.5296, 0.5416, 0.5616, 0.5808, 0.4252, 0.7912, 0.5196,\n",
      "        0.4536, 0.7706, 0.2790, 0.5050, 0.4269, 0.7060, 0.4864, 0.5019, 0.7146],\n",
      "       device='mps:0')\n",
      "tensor([0.5389, 0.5704, 0.5417, 0.5059, 0.5803, 0.5180, 0.4314, 0.6701, 0.3137,\n",
      "        0.4322, 0.5680, 0.5876, 0.5215, 0.4034, 0.4906, 0.4747, 0.6049, 0.5185],\n",
      "       device='mps:0')\n"
     ]
    },
    {
     "name": "stderr",
     "output_type": "stream",
     "text": [
      "D_fake_loss_rnd=1.906:   1%|          | 8/1001 [00:05<11:49,  1.40it/s]"
     ]
    },
    {
     "name": "stdout",
     "output_type": "stream",
     "text": [
      "tensor([0.1440, 0.4295, 0.4584, 0.6453, 0.4134, 0.5527, 0.6948, 0.3193, 0.4091,\n",
      "        0.7510, 0.5828, 0.2258, 0.4615, 0.3904, 0.5212, 0.4075, 0.5465, 0.2327],\n",
      "       device='mps:0')\n",
      "tensor([0.5389, 0.5704, 0.5417, 0.5059, 0.5803, 0.5180, 0.4314, 0.6701, 0.3137,\n",
      "        0.4322, 0.5680, 0.5876, 0.5215, 0.4034, 0.4906, 0.4747, 0.6049, 0.5185],\n",
      "       device='mps:0')\n",
      "tensor([0.1440, 0.4295, 0.4584, 0.6453, 0.4134, 0.5527, 0.6948, 0.3193, 0.4091,\n",
      "        0.7510, 0.5828, 0.2258, 0.4615, 0.3904, 0.5212, 0.4075, 0.5465, 0.2327],\n",
      "       device='mps:0')\n",
      "tensor([0.3573, 0.5438, 0.4419, 0.6605, 0.5546, 0.7321, 0.3912, 0.6501, 0.3605,\n",
      "        0.4927, 0.5672, 0.4342, 0.3636, 0.3881, 0.7376, 0.5744, 0.5027, 0.7292],\n",
      "       device='mps:0')\n",
      "tensor([0.2618, 0.3471, 0.3707, 0.4881, 0.4086, 0.4163, 0.4376, 0.5196, 0.2000,\n",
      "        0.5820, 0.8209, 0.3195, 0.7360, 0.5404, 0.6242, 0.4631, 0.3310, 0.3142],\n",
      "       device='mps:0')\n",
      "tensor([0.1440, 0.4295, 0.4584, 0.6453, 0.4134, 0.5527, 0.6948, 0.3193, 0.4091,\n",
      "        0.7510, 0.5828, 0.2258, 0.4615, 0.3904, 0.5212, 0.4075, 0.5465, 0.2327],\n",
      "       device='mps:0')\n"
     ]
    },
    {
     "name": "stderr",
     "output_type": "stream",
     "text": [
      "D_fake_loss_rnd=1.906:   1%|          | 9/1001 [00:06<11:45,  1.41it/s]"
     ]
    },
    {
     "name": "stdout",
     "output_type": "stream",
     "text": [
      "tensor([0.5389, 0.5704, 0.5417, 0.5059, 0.5803, 0.5180, 0.4314, 0.6701, 0.3137,\n",
      "        0.4322, 0.5680, 0.5876, 0.5215, 0.4034, 0.4906, 0.4747, 0.6049, 0.5185],\n",
      "       device='mps:0')\n",
      "tensor([0.3503, 0.5811, 0.7366, 0.5169, 0.5646, 0.3957, 0.3360, 0.5628, 0.3724,\n",
      "        0.3026, 0.8325, 0.4773, 0.4635, 0.4828, 0.5091, 0.4382, 0.5580, 0.3658],\n",
      "       device='mps:0')\n",
      "tensor([0.2102, 0.5263, 0.5296, 0.5416, 0.5616, 0.5808, 0.4252, 0.7912, 0.5196,\n",
      "        0.4536, 0.7706, 0.2790, 0.5050, 0.4269, 0.7060, 0.4864, 0.5019, 0.7146],\n",
      "       device='mps:0')\n",
      "tensor([0.3503, 0.5811, 0.7366, 0.5169, 0.5646, 0.3957, 0.3360, 0.5628, 0.3724,\n",
      "        0.3026, 0.8325, 0.4773, 0.4635, 0.4828, 0.5091, 0.4382, 0.5580, 0.3658],\n",
      "       device='mps:0')\n",
      "tensor([0.5389, 0.5704, 0.5417, 0.5059, 0.5803, 0.5180, 0.4314, 0.6701, 0.3137,\n",
      "        0.4322, 0.5680, 0.5876, 0.5215, 0.4034, 0.4906, 0.4747, 0.6049, 0.5185],\n",
      "       device='mps:0')\n",
      "tensor([0.2618, 0.3471, 0.3707, 0.4881, 0.4086, 0.4163, 0.4376, 0.5196, 0.2000,\n",
      "        0.5820, 0.8209, 0.3195, 0.7360, 0.5404, 0.6242, 0.4631, 0.3310, 0.3142],\n",
      "       device='mps:0')\n"
     ]
    },
    {
     "name": "stderr",
     "output_type": "stream",
     "text": [
      "D_fake_loss_rnd=1.906:   1%|          | 10/1001 [00:07<11:40,  1.42it/s]"
     ]
    },
    {
     "name": "stdout",
     "output_type": "stream",
     "text": [
      "tensor([0.2618, 0.3471, 0.3707, 0.4881, 0.4086, 0.4163, 0.4376, 0.5196, 0.2000,\n",
      "        0.5820, 0.8209, 0.3195, 0.7360, 0.5404, 0.6242, 0.4631, 0.3310, 0.3142],\n",
      "       device='mps:0')\n",
      "tensor([0.3503, 0.5811, 0.7366, 0.5169, 0.5646, 0.3957, 0.3360, 0.5628, 0.3724,\n",
      "        0.3026, 0.8325, 0.4773, 0.4635, 0.4828, 0.5091, 0.4382, 0.5580, 0.3658],\n",
      "       device='mps:0')\n",
      "tensor([0.5389, 0.5704, 0.5417, 0.5059, 0.5803, 0.5180, 0.4314, 0.6701, 0.3137,\n",
      "        0.4322, 0.5680, 0.5876, 0.5215, 0.4034, 0.4906, 0.4747, 0.6049, 0.5185],\n",
      "       device='mps:0')\n",
      "tensor([0.1440, 0.4295, 0.4584, 0.6453, 0.4134, 0.5527, 0.6948, 0.3193, 0.4091,\n",
      "        0.7510, 0.5828, 0.2258, 0.4615, 0.3904, 0.5212, 0.4075, 0.5465, 0.2327],\n",
      "       device='mps:0')\n",
      "tensor([0.1439, 0.5874, 0.5731, 0.6635, 0.4935, 0.7038, 0.6067, 0.5829, 0.6530,\n",
      "        0.5732, 0.6105, 0.1692, 0.2992, 0.3678, 0.6380, 0.4087, 0.6454, 0.6176],\n",
      "       device='mps:0')\n",
      "tensor([0.2694, 0.5717, 0.7109, 0.6172, 0.6328, 0.5256, 0.5620, 0.3303, 0.5168,\n",
      "        0.4482, 0.7850, 0.4481, 0.2323, 0.4558, 0.3892, 0.3947, 0.7343, 0.3243],\n",
      "       device='mps:0')\n"
     ]
    },
    {
     "name": "stderr",
     "output_type": "stream",
     "text": [
      "D_fake_loss_rnd=-71.122:   1%|          | 11/1001 [00:07<11:36,  1.42it/s]"
     ]
    },
    {
     "name": "stdout",
     "output_type": "stream",
     "text": [
      "tensor([0.1440, 0.4295, 0.4584, 0.6453, 0.4134, 0.5527, 0.6948, 0.3193, 0.4091,\n",
      "        0.7510, 0.5828, 0.2258, 0.4615, 0.3904, 0.5212, 0.4075, 0.5465, 0.2327],\n",
      "       device='mps:0')\n",
      "tensor([0.4612, 0.6630, 0.5373, 0.5283, 0.5609, 0.4844, 0.4513, 0.6239, 0.3709,\n",
      "        0.4475, 0.6223, 0.5930, 0.5527, 0.4313, 0.3900, 0.4316, 0.6447, 0.4944],\n",
      "       device='mps:0')\n",
      "tensor([0.3308, 0.4670, 0.6162, 0.4823, 0.5119, 0.4115, 0.4212, 0.5319, 0.4138,\n",
      "        0.4051, 0.8079, 0.5057, 0.5065, 0.4519, 0.5160, 0.4808, 0.6416, 0.4520],\n",
      "       device='mps:0')\n",
      "tensor([0.4606, 0.6105, 0.4292, 0.5612, 0.5604, 0.4943, 0.3818, 0.6132, 0.3052,\n",
      "        0.5286, 0.5458, 0.4616, 0.3783, 0.5159, 0.5156, 0.5393, 0.6700, 0.4155],\n",
      "       device='mps:0')\n",
      "tensor([0.3573, 0.5438, 0.4419, 0.6605, 0.5546, 0.7321, 0.3912, 0.6501, 0.3605,\n",
      "        0.4927, 0.5672, 0.4342, 0.3636, 0.3881, 0.7376, 0.5744, 0.5027, 0.7292],\n",
      "       device='mps:0')\n",
      "tensor([0.4606, 0.6105, 0.4292, 0.5612, 0.5604, 0.4943, 0.3818, 0.6132, 0.3052,\n",
      "        0.5286, 0.5458, 0.4616, 0.3783, 0.5159, 0.5156, 0.5393, 0.6700, 0.4155],\n",
      "       device='mps:0')\n"
     ]
    },
    {
     "name": "stderr",
     "output_type": "stream",
     "text": [
      "D_fake_loss_rnd=-71.122:   1%|          | 12/1001 [00:08<11:39,  1.41it/s]"
     ]
    },
    {
     "name": "stdout",
     "output_type": "stream",
     "text": [
      "tensor([0.2618, 0.3471, 0.3707, 0.4881, 0.4086, 0.4163, 0.4376, 0.5196, 0.2000,\n",
      "        0.5820, 0.8209, 0.3195, 0.7360, 0.5404, 0.6242, 0.4631, 0.3310, 0.3142],\n",
      "       device='mps:0')\n",
      "tensor([0.4606, 0.6105, 0.4292, 0.5612, 0.5604, 0.4943, 0.3818, 0.6132, 0.3052,\n",
      "        0.5286, 0.5458, 0.4616, 0.3783, 0.5159, 0.5156, 0.5393, 0.6700, 0.4155],\n",
      "       device='mps:0')\n",
      "tensor([0.1440, 0.4295, 0.4584, 0.6453, 0.4134, 0.5527, 0.6948, 0.3193, 0.4091,\n",
      "        0.7510, 0.5828, 0.2258, 0.4615, 0.3904, 0.5212, 0.4075, 0.5465, 0.2327],\n",
      "       device='mps:0')\n",
      "tensor([0.1439, 0.5874, 0.5731, 0.6635, 0.4935, 0.7038, 0.6067, 0.5829, 0.6530,\n",
      "        0.5732, 0.6105, 0.1692, 0.2992, 0.3678, 0.6380, 0.4087, 0.6454, 0.6176],\n",
      "       device='mps:0')\n",
      "tensor([0.3573, 0.5438, 0.4419, 0.6605, 0.5546, 0.7321, 0.3912, 0.6501, 0.3605,\n",
      "        0.4927, 0.5672, 0.4342, 0.3636, 0.3881, 0.7376, 0.5744, 0.5027, 0.7292],\n",
      "       device='mps:0')\n",
      "tensor([0.3716, 0.5362, 0.6663, 0.5211, 0.5347, 0.3577, 0.3968, 0.5411, 0.3835,\n",
      "        0.3986, 0.7864, 0.4350, 0.4441, 0.5081, 0.4783, 0.4376, 0.5841, 0.4056],\n",
      "       device='mps:0')\n"
     ]
    },
    {
     "name": "stderr",
     "output_type": "stream",
     "text": [
      "D_fake_loss_rnd=-71.122:   1%|▏         | 13/1001 [00:09<11:43,  1.41it/s]"
     ]
    },
    {
     "name": "stdout",
     "output_type": "stream",
     "text": [
      "tensor([0.2618, 0.3471, 0.3707, 0.4881, 0.4086, 0.4163, 0.4376, 0.5196, 0.2000,\n",
      "        0.5820, 0.8209, 0.3195, 0.7360, 0.5404, 0.6242, 0.4631, 0.3310, 0.3142],\n",
      "       device='mps:0')\n",
      "tensor([0.1440, 0.4295, 0.4584, 0.6453, 0.4134, 0.5527, 0.6948, 0.3193, 0.4091,\n",
      "        0.7510, 0.5828, 0.2258, 0.4615, 0.3904, 0.5212, 0.4075, 0.5465, 0.2327],\n",
      "       device='mps:0')\n",
      "tensor([0.2420, 0.4608, 0.4817, 0.6300, 0.4954, 0.5939, 0.5616, 0.5107, 0.6117,\n",
      "        0.6061, 0.6420, 0.2671, 0.3989, 0.3344, 0.6261, 0.5166, 0.7043, 0.6492],\n",
      "       device='mps:0')\n",
      "tensor([0.4606, 0.6105, 0.4292, 0.5612, 0.5604, 0.4943, 0.3818, 0.6132, 0.3052,\n",
      "        0.5286, 0.5458, 0.4616, 0.3783, 0.5159, 0.5156, 0.5393, 0.6700, 0.4155],\n",
      "       device='mps:0')\n",
      "tensor([0.3573, 0.5438, 0.4419, 0.6605, 0.5546, 0.7321, 0.3912, 0.6501, 0.3605,\n",
      "        0.4927, 0.5672, 0.4342, 0.3636, 0.3881, 0.7376, 0.5744, 0.5027, 0.7292],\n",
      "       device='mps:0')\n",
      "tensor([0.5389, 0.5704, 0.5417, 0.5059, 0.5803, 0.5180, 0.4314, 0.6701, 0.3137,\n",
      "        0.4322, 0.5680, 0.5876, 0.5215, 0.4034, 0.4906, 0.4747, 0.6049, 0.5185],\n",
      "       device='mps:0')\n"
     ]
    },
    {
     "name": "stderr",
     "output_type": "stream",
     "text": [
      "D_fake_loss_rnd=-71.122:   1%|▏         | 14/1001 [00:10<11:44,  1.40it/s]"
     ]
    },
    {
     "name": "stdout",
     "output_type": "stream",
     "text": [
      "tensor([0.2618, 0.3471, 0.3707, 0.4881, 0.4086, 0.4163, 0.4376, 0.5196, 0.2000,\n",
      "        0.5820, 0.8209, 0.3195, 0.7360, 0.5404, 0.6242, 0.4631, 0.3310, 0.3142],\n",
      "       device='mps:0')\n",
      "tensor([0.4606, 0.6105, 0.4292, 0.5612, 0.5604, 0.4943, 0.3818, 0.6132, 0.3052,\n",
      "        0.5286, 0.5458, 0.4616, 0.3783, 0.5159, 0.5156, 0.5393, 0.6700, 0.4155],\n",
      "       device='mps:0')\n",
      "tensor([0.5389, 0.5704, 0.5417, 0.5059, 0.5803, 0.5180, 0.4314, 0.6701, 0.3137,\n",
      "        0.4322, 0.5680, 0.5876, 0.5215, 0.4034, 0.4906, 0.4747, 0.6049, 0.5185],\n",
      "       device='mps:0')\n",
      "tensor([0.2102, 0.5263, 0.5296, 0.5416, 0.5616, 0.5808, 0.4252, 0.7912, 0.5196,\n",
      "        0.4536, 0.7706, 0.2790, 0.5050, 0.4269, 0.7060, 0.4864, 0.5019, 0.7146],\n",
      "       device='mps:0')\n",
      "tensor([0.4606, 0.6105, 0.4292, 0.5612, 0.5604, 0.4943, 0.3818, 0.6132, 0.3052,\n",
      "        0.5286, 0.5458, 0.4616, 0.3783, 0.5159, 0.5156, 0.5393, 0.6700, 0.4155],\n",
      "       device='mps:0')\n",
      "tensor([0.5389, 0.5704, 0.5417, 0.5059, 0.5803, 0.5180, 0.4314, 0.6701, 0.3137,\n",
      "        0.4322, 0.5680, 0.5876, 0.5215, 0.4034, 0.4906, 0.4747, 0.6049, 0.5185],\n",
      "       device='mps:0')\n"
     ]
    },
    {
     "name": "stderr",
     "output_type": "stream",
     "text": [
      "D_fake_loss_rnd=-71.122:   1%|▏         | 15/1001 [00:10<11:41,  1.41it/s]"
     ]
    },
    {
     "name": "stdout",
     "output_type": "stream",
     "text": [
      "tensor([0.4606, 0.6105, 0.4292, 0.5612, 0.5604, 0.4943, 0.3818, 0.6132, 0.3052,\n",
      "        0.5286, 0.5458, 0.4616, 0.3783, 0.5159, 0.5156, 0.5393, 0.6700, 0.4155],\n",
      "       device='mps:0')\n",
      "tensor([0.1439, 0.5874, 0.5731, 0.6635, 0.4935, 0.7038, 0.6067, 0.5829, 0.6530,\n",
      "        0.5732, 0.6105, 0.1692, 0.2992, 0.3678, 0.6380, 0.4087, 0.6454, 0.6176],\n",
      "       device='mps:0')\n",
      "tensor([0.5389, 0.5704, 0.5417, 0.5059, 0.5803, 0.5180, 0.4314, 0.6701, 0.3137,\n",
      "        0.4322, 0.5680, 0.5876, 0.5215, 0.4034, 0.4906, 0.4747, 0.6049, 0.5185],\n",
      "       device='mps:0')\n",
      "tensor([0.3573, 0.5438, 0.4419, 0.6605, 0.5546, 0.7321, 0.3912, 0.6501, 0.3605,\n",
      "        0.4927, 0.5672, 0.4342, 0.3636, 0.3881, 0.7376, 0.5744, 0.5027, 0.7292],\n",
      "       device='mps:0')\n",
      "tensor([0.2694, 0.5717, 0.7109, 0.6172, 0.6328, 0.5256, 0.5620, 0.3303, 0.5168,\n",
      "        0.4482, 0.7850, 0.4481, 0.2323, 0.4558, 0.3892, 0.3947, 0.7343, 0.3243],\n",
      "       device='mps:0')\n",
      "tensor([0.2045, 0.3933, 0.4165, 0.6088, 0.4200, 0.5464, 0.6344, 0.3566, 0.4192,\n",
      "        0.7017, 0.5941, 0.2986, 0.5484, 0.3655, 0.5496, 0.4804, 0.6394, 0.2952],\n",
      "       device='mps:0')\n"
     ]
    },
    {
     "name": "stderr",
     "output_type": "stream",
     "text": [
      "D_fake_loss_rnd=-71.122:   2%|▏         | 16/1001 [00:11<11:39,  1.41it/s]"
     ]
    },
    {
     "name": "stdout",
     "output_type": "stream",
     "text": [
      "tensor([0.3573, 0.5438, 0.4419, 0.6605, 0.5546, 0.7321, 0.3912, 0.6501, 0.3605,\n",
      "        0.4927, 0.5672, 0.4342, 0.3636, 0.3881, 0.7376, 0.5744, 0.5027, 0.7292],\n",
      "       device='mps:0')\n",
      "tensor([0.3573, 0.5438, 0.4419, 0.6605, 0.5546, 0.7321, 0.3912, 0.6501, 0.3605,\n",
      "        0.4927, 0.5672, 0.4342, 0.3636, 0.3881, 0.7376, 0.5744, 0.5027, 0.7292],\n",
      "       device='mps:0')\n",
      "tensor([0.4606, 0.6105, 0.4292, 0.5612, 0.5604, 0.4943, 0.3818, 0.6132, 0.3052,\n",
      "        0.5286, 0.5458, 0.4616, 0.3783, 0.5159, 0.5156, 0.5393, 0.6700, 0.4155],\n",
      "       device='mps:0')\n",
      "tensor([0.4606, 0.6105, 0.4292, 0.5612, 0.5604, 0.4943, 0.3818, 0.6132, 0.3052,\n",
      "        0.5286, 0.5458, 0.4616, 0.3783, 0.5159, 0.5156, 0.5393, 0.6700, 0.4155],\n",
      "       device='mps:0')\n",
      "tensor([0.4606, 0.6105, 0.4292, 0.5612, 0.5604, 0.4943, 0.3818, 0.6132, 0.3052,\n",
      "        0.5286, 0.5458, 0.4616, 0.3783, 0.5159, 0.5156, 0.5393, 0.6700, 0.4155],\n",
      "       device='mps:0')\n",
      "tensor([0.1440, 0.4295, 0.4584, 0.6453, 0.4134, 0.5527, 0.6948, 0.3193, 0.4091,\n",
      "        0.7510, 0.5828, 0.2258, 0.4615, 0.3904, 0.5212, 0.4075, 0.5465, 0.2327],\n",
      "       device='mps:0')\n"
     ]
    },
    {
     "name": "stderr",
     "output_type": "stream",
     "text": [
      "D_fake_loss_rnd=-71.122:   2%|▏         | 17/1001 [00:12<11:34,  1.42it/s]"
     ]
    },
    {
     "name": "stdout",
     "output_type": "stream",
     "text": [
      "tensor([0.5389, 0.5704, 0.5417, 0.5059, 0.5803, 0.5180, 0.4314, 0.6701, 0.3137,\n",
      "        0.4322, 0.5680, 0.5876, 0.5215, 0.4034, 0.4906, 0.4747, 0.6049, 0.5185],\n",
      "       device='mps:0')\n",
      "tensor([0.4606, 0.6105, 0.4292, 0.5612, 0.5604, 0.4943, 0.3818, 0.6132, 0.3052,\n",
      "        0.5286, 0.5458, 0.4616, 0.3783, 0.5159, 0.5156, 0.5393, 0.6700, 0.4155],\n",
      "       device='mps:0')\n",
      "tensor([0.3503, 0.5811, 0.7366, 0.5169, 0.5646, 0.3957, 0.3360, 0.5628, 0.3724,\n",
      "        0.3026, 0.8325, 0.4773, 0.4635, 0.4828, 0.5091, 0.4382, 0.5580, 0.3658],\n",
      "       device='mps:0')\n",
      "tensor([0.1439, 0.5874, 0.5731, 0.6635, 0.4935, 0.7038, 0.6067, 0.5829, 0.6530,\n",
      "        0.5732, 0.6105, 0.1692, 0.2992, 0.3678, 0.6380, 0.4087, 0.6454, 0.6176],\n",
      "       device='mps:0')\n",
      "tensor([0.2694, 0.5717, 0.7109, 0.6172, 0.6328, 0.5256, 0.5620, 0.3303, 0.5168,\n",
      "        0.4482, 0.7850, 0.4481, 0.2323, 0.4558, 0.3892, 0.3947, 0.7343, 0.3243],\n",
      "       device='mps:0')\n",
      "tensor([0.4606, 0.6105, 0.4292, 0.5612, 0.5604, 0.4943, 0.3818, 0.6132, 0.3052,\n",
      "        0.5286, 0.5458, 0.4616, 0.3783, 0.5159, 0.5156, 0.5393, 0.6700, 0.4155],\n",
      "       device='mps:0')\n"
     ]
    },
    {
     "name": "stderr",
     "output_type": "stream",
     "text": [
      "D_fake_loss_rnd=-71.122:   2%|▏         | 18/1001 [00:12<11:30,  1.42it/s]"
     ]
    },
    {
     "name": "stdout",
     "output_type": "stream",
     "text": [
      "tensor([0.1439, 0.5874, 0.5731, 0.6635, 0.4935, 0.7038, 0.6067, 0.5829, 0.6530,\n",
      "        0.5732, 0.6105, 0.1692, 0.2992, 0.3678, 0.6380, 0.4087, 0.6454, 0.6176],\n",
      "       device='mps:0')\n",
      "tensor([0.4606, 0.6105, 0.4292, 0.5612, 0.5604, 0.4943, 0.3818, 0.6132, 0.3052,\n",
      "        0.5286, 0.5458, 0.4616, 0.3783, 0.5159, 0.5156, 0.5393, 0.6700, 0.4155],\n",
      "       device='mps:0')\n",
      "tensor([0.4606, 0.6105, 0.4292, 0.5612, 0.5604, 0.4943, 0.3818, 0.6132, 0.3052,\n",
      "        0.5286, 0.5458, 0.4616, 0.3783, 0.5159, 0.5156, 0.5393, 0.6700, 0.4155],\n",
      "       device='mps:0')\n",
      "tensor([0.2413, 0.3190, 0.3755, 0.5096, 0.3877, 0.4460, 0.4459, 0.5227, 0.2966,\n",
      "        0.5789, 0.7653, 0.3640, 0.7176, 0.4638, 0.6109, 0.4773, 0.4766, 0.3467],\n",
      "       device='mps:0')\n",
      "tensor([0.2694, 0.5717, 0.7109, 0.6172, 0.6328, 0.5256, 0.5620, 0.3303, 0.5168,\n",
      "        0.4482, 0.7850, 0.4481, 0.2323, 0.4558, 0.3892, 0.3947, 0.7343, 0.3243],\n",
      "       device='mps:0')\n",
      "tensor([0.4612, 0.6630, 0.5373, 0.5283, 0.5609, 0.4844, 0.4513, 0.6239, 0.3709,\n",
      "        0.4475, 0.6223, 0.5930, 0.5527, 0.4313, 0.3900, 0.4316, 0.6447, 0.4944],\n",
      "       device='mps:0')\n"
     ]
    },
    {
     "name": "stderr",
     "output_type": "stream",
     "text": [
      "D_fake_loss_rnd=-71.122:   2%|▏         | 19/1001 [00:13<11:28,  1.43it/s]"
     ]
    },
    {
     "name": "stdout",
     "output_type": "stream",
     "text": [
      "tensor([0.1440, 0.4295, 0.4584, 0.6453, 0.4134, 0.5527, 0.6948, 0.3193, 0.4091,\n",
      "        0.7510, 0.5828, 0.2258, 0.4615, 0.3904, 0.5212, 0.4075, 0.5465, 0.2327],\n",
      "       device='mps:0')\n",
      "tensor([0.2694, 0.5717, 0.7109, 0.6172, 0.6328, 0.5256, 0.5620, 0.3303, 0.5168,\n",
      "        0.4482, 0.7850, 0.4481, 0.2323, 0.4558, 0.3892, 0.3947, 0.7343, 0.3243],\n",
      "       device='mps:0')\n",
      "tensor([0.3573, 0.5438, 0.4419, 0.6605, 0.5546, 0.7321, 0.3912, 0.6501, 0.3605,\n",
      "        0.4927, 0.5672, 0.4342, 0.3636, 0.3881, 0.7376, 0.5744, 0.5027, 0.7292],\n",
      "       device='mps:0')\n",
      "tensor([0.3573, 0.5438, 0.4419, 0.6605, 0.5546, 0.7321, 0.3912, 0.6501, 0.3605,\n",
      "        0.4927, 0.5672, 0.4342, 0.3636, 0.3881, 0.7376, 0.5744, 0.5027, 0.7292],\n",
      "       device='mps:0')\n",
      "tensor([0.3573, 0.5438, 0.4419, 0.6605, 0.5546, 0.7321, 0.3912, 0.6501, 0.3605,\n",
      "        0.4927, 0.5672, 0.4342, 0.3636, 0.3881, 0.7376, 0.5744, 0.5027, 0.7292],\n",
      "       device='mps:0')\n",
      "tensor([0.2618, 0.3471, 0.3707, 0.4881, 0.4086, 0.4163, 0.4376, 0.5196, 0.2000,\n",
      "        0.5820, 0.8209, 0.3195, 0.7360, 0.5404, 0.6242, 0.4631, 0.3310, 0.3142],\n",
      "       device='mps:0')\n"
     ]
    },
    {
     "name": "stderr",
     "output_type": "stream",
     "text": [
      "D_fake_loss_rnd=-71.122:   2%|▏         | 20/1001 [00:14<11:27,  1.43it/s]"
     ]
    },
    {
     "name": "stdout",
     "output_type": "stream",
     "text": [
      "tensor([0.4606, 0.6105, 0.4292, 0.5612, 0.5604, 0.4943, 0.3818, 0.6132, 0.3052,\n",
      "        0.5286, 0.5458, 0.4616, 0.3783, 0.5159, 0.5156, 0.5393, 0.6700, 0.4155],\n",
      "       device='mps:0')\n",
      "tensor([0.2694, 0.5717, 0.7109, 0.6172, 0.6328, 0.5256, 0.5620, 0.3303, 0.5168,\n",
      "        0.4482, 0.7850, 0.4481, 0.2323, 0.4558, 0.3892, 0.3947, 0.7343, 0.3243],\n",
      "       device='mps:0')\n",
      "tensor([0.1440, 0.4295, 0.4584, 0.6453, 0.4134, 0.5527, 0.6948, 0.3193, 0.4091,\n",
      "        0.7510, 0.5828, 0.2258, 0.4615, 0.3904, 0.5212, 0.4075, 0.5465, 0.2327],\n",
      "       device='mps:0')\n",
      "tensor([0.1440, 0.4295, 0.4584, 0.6453, 0.4134, 0.5527, 0.6948, 0.3193, 0.4091,\n",
      "        0.7510, 0.5828, 0.2258, 0.4615, 0.3904, 0.5212, 0.4075, 0.5465, 0.2327],\n",
      "       device='mps:0')\n",
      "tensor([0.5389, 0.5704, 0.5417, 0.5059, 0.5803, 0.5180, 0.4314, 0.6701, 0.3137,\n",
      "        0.4322, 0.5680, 0.5876, 0.5215, 0.4034, 0.4906, 0.4747, 0.6049, 0.5185],\n",
      "       device='mps:0')\n",
      "tensor([0.2618, 0.3471, 0.3707, 0.4881, 0.4086, 0.4163, 0.4376, 0.5196, 0.2000,\n",
      "        0.5820, 0.8209, 0.3195, 0.7360, 0.5404, 0.6242, 0.4631, 0.3310, 0.3142],\n",
      "       device='mps:0')\n"
     ]
    },
    {
     "name": "stderr",
     "output_type": "stream",
     "text": [
      "D_fake_loss_rnd=-103.517:   2%|▏         | 21/1001 [00:15<11:27,  1.43it/s]"
     ]
    },
    {
     "name": "stdout",
     "output_type": "stream",
     "text": [
      "tensor([0.5389, 0.5704, 0.5417, 0.5059, 0.5803, 0.5180, 0.4314, 0.6701, 0.3137,\n",
      "        0.4322, 0.5680, 0.5876, 0.5215, 0.4034, 0.4906, 0.4747, 0.6049, 0.5185],\n",
      "       device='mps:0')\n",
      "tensor([0.6481, 0.6045, 0.4457, 0.4687, 0.5367, 0.4834, 0.4615, 0.5177, 0.3141,\n",
      "        0.3604, 0.6778, 0.5540, 0.4486, 0.3124, 0.5632, 0.4627, 0.7179, 0.5082],\n",
      "       device='mps:0')\n",
      "tensor([0.1440, 0.4295, 0.4584, 0.6453, 0.4134, 0.5527, 0.6948, 0.3193, 0.4091,\n",
      "        0.7510, 0.5828, 0.2258, 0.4615, 0.3904, 0.5212, 0.4075, 0.5465, 0.2327],\n",
      "       device='mps:0')\n",
      "tensor([0.2618, 0.3471, 0.3707, 0.4881, 0.4086, 0.4163, 0.4376, 0.5196, 0.2000,\n",
      "        0.5820, 0.8209, 0.3195, 0.7360, 0.5404, 0.6242, 0.4631, 0.3310, 0.3142],\n",
      "       device='mps:0')\n",
      "tensor([0.2102, 0.5263, 0.5296, 0.5416, 0.5616, 0.5808, 0.4252, 0.7912, 0.5196,\n",
      "        0.4536, 0.7706, 0.2790, 0.5050, 0.4269, 0.7060, 0.4864, 0.5019, 0.7146],\n",
      "       device='mps:0')\n",
      "tensor([0.1440, 0.4295, 0.4584, 0.6453, 0.4134, 0.5527, 0.6948, 0.3193, 0.4091,\n",
      "        0.7510, 0.5828, 0.2258, 0.4615, 0.3904, 0.5212, 0.4075, 0.5465, 0.2327],\n",
      "       device='mps:0')\n"
     ]
    },
    {
     "name": "stderr",
     "output_type": "stream",
     "text": [
      "D_fake_loss_rnd=-103.517:   2%|▏         | 22/1001 [00:15<11:26,  1.43it/s]"
     ]
    },
    {
     "name": "stdout",
     "output_type": "stream",
     "text": [
      "tensor([0.4606, 0.6105, 0.4292, 0.5612, 0.5604, 0.4943, 0.3818, 0.6132, 0.3052,\n",
      "        0.5286, 0.5458, 0.4616, 0.3783, 0.5159, 0.5156, 0.5393, 0.6700, 0.4155],\n",
      "       device='mps:0')\n",
      "tensor([0.6481, 0.6045, 0.4457, 0.4687, 0.5367, 0.4834, 0.4615, 0.5177, 0.3141,\n",
      "        0.3604, 0.6778, 0.5540, 0.4486, 0.3124, 0.5632, 0.4627, 0.7179, 0.5082],\n",
      "       device='mps:0')\n",
      "tensor([0.3503, 0.5811, 0.7366, 0.5169, 0.5646, 0.3957, 0.3360, 0.5628, 0.3724,\n",
      "        0.3026, 0.8325, 0.4773, 0.4635, 0.4828, 0.5091, 0.4382, 0.5580, 0.3658],\n",
      "       device='mps:0')\n",
      "tensor([0.5389, 0.5704, 0.5417, 0.5059, 0.5803, 0.5180, 0.4314, 0.6701, 0.3137,\n",
      "        0.4322, 0.5680, 0.5876, 0.5215, 0.4034, 0.4906, 0.4747, 0.6049, 0.5185],\n",
      "       device='mps:0')\n",
      "tensor([0.1439, 0.5874, 0.5731, 0.6635, 0.4935, 0.7038, 0.6067, 0.5829, 0.6530,\n",
      "        0.5732, 0.6105, 0.1692, 0.2992, 0.3678, 0.6380, 0.4087, 0.6454, 0.6176],\n",
      "       device='mps:0')\n",
      "tensor([0.4606, 0.6105, 0.4292, 0.5612, 0.5604, 0.4943, 0.3818, 0.6132, 0.3052,\n",
      "        0.5286, 0.5458, 0.4616, 0.3783, 0.5159, 0.5156, 0.5393, 0.6700, 0.4155],\n",
      "       device='mps:0')\n"
     ]
    },
    {
     "name": "stderr",
     "output_type": "stream",
     "text": [
      "D_fake_loss_rnd=-103.517:   2%|▏         | 23/1001 [00:16<11:25,  1.43it/s]"
     ]
    },
    {
     "name": "stdout",
     "output_type": "stream",
     "text": [
      "tensor([0.3573, 0.5438, 0.4419, 0.6605, 0.5546, 0.7321, 0.3912, 0.6501, 0.3605,\n",
      "        0.4927, 0.5672, 0.4342, 0.3636, 0.3881, 0.7376, 0.5744, 0.5027, 0.7292],\n",
      "       device='mps:0')\n",
      "tensor([0.1440, 0.4295, 0.4584, 0.6453, 0.4134, 0.5527, 0.6948, 0.3193, 0.4091,\n",
      "        0.7510, 0.5828, 0.2258, 0.4615, 0.3904, 0.5212, 0.4075, 0.5465, 0.2327],\n",
      "       device='mps:0')\n",
      "tensor([0.1440, 0.4295, 0.4584, 0.6453, 0.4134, 0.5527, 0.6948, 0.3193, 0.4091,\n",
      "        0.7510, 0.5828, 0.2258, 0.4615, 0.3904, 0.5212, 0.4075, 0.5465, 0.2327],\n",
      "       device='mps:0')\n",
      "tensor([0.2618, 0.3471, 0.3707, 0.4881, 0.4086, 0.4163, 0.4376, 0.5196, 0.2000,\n",
      "        0.5820, 0.8209, 0.3195, 0.7360, 0.5404, 0.6242, 0.4631, 0.3310, 0.3142],\n",
      "       device='mps:0')\n",
      "tensor([0.4606, 0.6105, 0.4292, 0.5612, 0.5604, 0.4943, 0.3818, 0.6132, 0.3052,\n",
      "        0.5286, 0.5458, 0.4616, 0.3783, 0.5159, 0.5156, 0.5393, 0.6700, 0.4155],\n",
      "       device='mps:0')\n",
      "tensor([0.3573, 0.5438, 0.4419, 0.6605, 0.5546, 0.7321, 0.3912, 0.6501, 0.3605,\n",
      "        0.4927, 0.5672, 0.4342, 0.3636, 0.3881, 0.7376, 0.5744, 0.5027, 0.7292],\n",
      "       device='mps:0')\n"
     ]
    },
    {
     "name": "stderr",
     "output_type": "stream",
     "text": [
      "D_fake_loss_rnd=-103.517:   2%|▏         | 24/1001 [00:17<11:24,  1.43it/s]"
     ]
    },
    {
     "name": "stdout",
     "output_type": "stream",
     "text": [
      "tensor([0.5389, 0.5704, 0.5417, 0.5059, 0.5803, 0.5180, 0.4314, 0.6701, 0.3137,\n",
      "        0.4322, 0.5680, 0.5876, 0.5215, 0.4034, 0.4906, 0.4747, 0.6049, 0.5185],\n",
      "       device='mps:0')\n",
      "tensor([0.1440, 0.4295, 0.4584, 0.6453, 0.4134, 0.5527, 0.6948, 0.3193, 0.4091,\n",
      "        0.7510, 0.5828, 0.2258, 0.4615, 0.3904, 0.5212, 0.4075, 0.5465, 0.2327],\n",
      "       device='mps:0')\n",
      "tensor([0.4612, 0.6630, 0.5373, 0.5283, 0.5609, 0.4844, 0.4513, 0.6239, 0.3709,\n",
      "        0.4475, 0.6223, 0.5930, 0.5527, 0.4313, 0.3900, 0.4316, 0.6447, 0.4944],\n",
      "       device='mps:0')\n",
      "tensor([0.5046, 0.5175, 0.5759, 0.4446, 0.5211, 0.4392, 0.4315, 0.6459, 0.2944,\n",
      "        0.3978, 0.5308, 0.3681, 0.4715, 0.4341, 0.5321, 0.4625, 0.5684, 0.5185],\n",
      "       device='mps:0')\n",
      "tensor([0.2694, 0.5717, 0.7109, 0.6172, 0.6328, 0.5256, 0.5620, 0.3303, 0.5168,\n",
      "        0.4482, 0.7850, 0.4481, 0.2323, 0.4558, 0.3892, 0.3947, 0.7343, 0.3243],\n",
      "       device='mps:0')\n",
      "tensor([0.4612, 0.6630, 0.5373, 0.5283, 0.5609, 0.4844, 0.4513, 0.6239, 0.3709,\n",
      "        0.4475, 0.6223, 0.5930, 0.5527, 0.4313, 0.3900, 0.4316, 0.6447, 0.4944],\n",
      "       device='mps:0')\n"
     ]
    },
    {
     "name": "stderr",
     "output_type": "stream",
     "text": [
      "D_fake_loss_rnd=-103.517:   2%|▏         | 25/1001 [00:17<11:22,  1.43it/s]"
     ]
    },
    {
     "name": "stdout",
     "output_type": "stream",
     "text": [
      "tensor([0.3573, 0.5438, 0.4419, 0.6605, 0.5546, 0.7321, 0.3912, 0.6501, 0.3605,\n",
      "        0.4927, 0.5672, 0.4342, 0.3636, 0.3881, 0.7376, 0.5744, 0.5027, 0.7292],\n",
      "       device='mps:0')\n",
      "tensor([0.4116, 0.5403, 0.6589, 0.5174, 0.5464, 0.3661, 0.4163, 0.5089, 0.4081,\n",
      "        0.3731, 0.7920, 0.5138, 0.4355, 0.4775, 0.4865, 0.4659, 0.6040, 0.3900],\n",
      "       device='mps:0')\n",
      "tensor([0.4606, 0.6105, 0.4292, 0.5612, 0.5604, 0.4943, 0.3818, 0.6132, 0.3052,\n",
      "        0.5286, 0.5458, 0.4616, 0.3783, 0.5159, 0.5156, 0.5393, 0.6700, 0.4155],\n",
      "       device='mps:0')\n",
      "tensor([0.4612, 0.6630, 0.5373, 0.5283, 0.5609, 0.4844, 0.4513, 0.6239, 0.3709,\n",
      "        0.4475, 0.6223, 0.5930, 0.5527, 0.4313, 0.3900, 0.4316, 0.6447, 0.4944],\n",
      "       device='mps:0')\n",
      "tensor([0.3573, 0.5438, 0.4419, 0.6605, 0.5546, 0.7321, 0.3912, 0.6501, 0.3605,\n",
      "        0.4927, 0.5672, 0.4342, 0.3636, 0.3881, 0.7376, 0.5744, 0.5027, 0.7292],\n",
      "       device='mps:0')\n",
      "tensor([0.3573, 0.5438, 0.4419, 0.6605, 0.5546, 0.7321, 0.3912, 0.6501, 0.3605,\n",
      "        0.4927, 0.5672, 0.4342, 0.3636, 0.3881, 0.7376, 0.5744, 0.5027, 0.7292],\n",
      "       device='mps:0')\n"
     ]
    },
    {
     "name": "stderr",
     "output_type": "stream",
     "text": [
      "D_fake_loss_rnd=-103.517:   3%|▎         | 26/1001 [00:18<11:21,  1.43it/s]"
     ]
    },
    {
     "name": "stdout",
     "output_type": "stream",
     "text": [
      "tensor([0.4606, 0.6105, 0.4292, 0.5612, 0.5604, 0.4943, 0.3818, 0.6132, 0.3052,\n",
      "        0.5286, 0.5458, 0.4616, 0.3783, 0.5159, 0.5156, 0.5393, 0.6700, 0.4155],\n",
      "       device='mps:0')\n",
      "tensor([0.3503, 0.5811, 0.7366, 0.5169, 0.5646, 0.3957, 0.3360, 0.5628, 0.3724,\n",
      "        0.3026, 0.8325, 0.4773, 0.4635, 0.4828, 0.5091, 0.4382, 0.5580, 0.3658],\n",
      "       device='mps:0')\n",
      "tensor([0.1440, 0.4295, 0.4584, 0.6453, 0.4134, 0.5527, 0.6948, 0.3193, 0.4091,\n",
      "        0.7510, 0.5828, 0.2258, 0.4615, 0.3904, 0.5212, 0.4075, 0.5465, 0.2327],\n",
      "       device='mps:0')\n",
      "tensor([0.2618, 0.3471, 0.3707, 0.4881, 0.4086, 0.4163, 0.4376, 0.5196, 0.2000,\n",
      "        0.5820, 0.8209, 0.3195, 0.7360, 0.5404, 0.6242, 0.4631, 0.3310, 0.3142],\n",
      "       device='mps:0')\n",
      "tensor([0.1439, 0.5874, 0.5731, 0.6635, 0.4935, 0.7038, 0.6067, 0.5829, 0.6530,\n",
      "        0.5732, 0.6105, 0.1692, 0.2992, 0.3678, 0.6380, 0.4087, 0.6454, 0.6176],\n",
      "       device='mps:0')\n",
      "tensor([0.1439, 0.5874, 0.5731, 0.6635, 0.4935, 0.7038, 0.6067, 0.5829, 0.6530,\n",
      "        0.5732, 0.6105, 0.1692, 0.2992, 0.3678, 0.6380, 0.4087, 0.6454, 0.6176],\n",
      "       device='mps:0')\n"
     ]
    },
    {
     "name": "stderr",
     "output_type": "stream",
     "text": [
      "D_fake_loss_rnd=-103.517:   3%|▎         | 27/1001 [00:19<11:20,  1.43it/s]"
     ]
    },
    {
     "name": "stdout",
     "output_type": "stream",
     "text": [
      "tensor([0.5389, 0.5704, 0.5417, 0.5059, 0.5803, 0.5180, 0.4314, 0.6701, 0.3137,\n",
      "        0.4322, 0.5680, 0.5876, 0.5215, 0.4034, 0.4906, 0.4747, 0.6049, 0.5185],\n",
      "       device='mps:0')\n",
      "tensor([0.2102, 0.5263, 0.5296, 0.5416, 0.5616, 0.5808, 0.4252, 0.7912, 0.5196,\n",
      "        0.4536, 0.7706, 0.2790, 0.5050, 0.4269, 0.7060, 0.4864, 0.5019, 0.7146],\n",
      "       device='mps:0')\n",
      "tensor([0.2102, 0.5263, 0.5296, 0.5416, 0.5616, 0.5808, 0.4252, 0.7912, 0.5196,\n",
      "        0.4536, 0.7706, 0.2790, 0.5050, 0.4269, 0.7060, 0.4864, 0.5019, 0.7146],\n",
      "       device='mps:0')\n",
      "tensor([0.2102, 0.5263, 0.5296, 0.5416, 0.5616, 0.5808, 0.4252, 0.7912, 0.5196,\n",
      "        0.4536, 0.7706, 0.2790, 0.5050, 0.4269, 0.7060, 0.4864, 0.5019, 0.7146],\n",
      "       device='mps:0')\n",
      "tensor([0.5389, 0.5704, 0.5417, 0.5059, 0.5803, 0.5180, 0.4314, 0.6701, 0.3137,\n",
      "        0.4322, 0.5680, 0.5876, 0.5215, 0.4034, 0.4906, 0.4747, 0.6049, 0.5185],\n",
      "       device='mps:0')\n",
      "tensor([0.6481, 0.6045, 0.4457, 0.4687, 0.5367, 0.4834, 0.4615, 0.5177, 0.3141,\n",
      "        0.3604, 0.6778, 0.5540, 0.4486, 0.3124, 0.5632, 0.4627, 0.7179, 0.5082],\n",
      "       device='mps:0')\n"
     ]
    },
    {
     "name": "stderr",
     "output_type": "stream",
     "text": [
      "D_fake_loss_rnd=-103.517:   3%|▎         | 28/1001 [00:19<11:19,  1.43it/s]"
     ]
    },
    {
     "name": "stdout",
     "output_type": "stream",
     "text": [
      "tensor([0.2102, 0.5263, 0.5296, 0.5416, 0.5616, 0.5808, 0.4252, 0.7912, 0.5196,\n",
      "        0.4536, 0.7706, 0.2790, 0.5050, 0.4269, 0.7060, 0.4864, 0.5019, 0.7146],\n",
      "       device='mps:0')\n",
      "tensor([0.6481, 0.6045, 0.4457, 0.4687, 0.5367, 0.4834, 0.4615, 0.5177, 0.3141,\n",
      "        0.3604, 0.6778, 0.5540, 0.4486, 0.3124, 0.5632, 0.4627, 0.7179, 0.5082],\n",
      "       device='mps:0')\n",
      "tensor([0.5389, 0.5704, 0.5417, 0.5059, 0.5803, 0.5180, 0.4314, 0.6701, 0.3137,\n",
      "        0.4322, 0.5680, 0.5876, 0.5215, 0.4034, 0.4906, 0.4747, 0.6049, 0.5185],\n",
      "       device='mps:0')\n",
      "tensor([0.2694, 0.5717, 0.7109, 0.6172, 0.6328, 0.5256, 0.5620, 0.3303, 0.5168,\n",
      "        0.4482, 0.7850, 0.4481, 0.2323, 0.4558, 0.3892, 0.3947, 0.7343, 0.3243],\n",
      "       device='mps:0')\n",
      "tensor([0.1439, 0.5874, 0.5731, 0.6635, 0.4935, 0.7038, 0.6067, 0.5829, 0.6530,\n",
      "        0.5732, 0.6105, 0.1692, 0.2992, 0.3678, 0.6380, 0.4087, 0.6454, 0.6176],\n",
      "       device='mps:0')\n",
      "tensor([0.3573, 0.5438, 0.4419, 0.6605, 0.5546, 0.7321, 0.3912, 0.6501, 0.3605,\n",
      "        0.4927, 0.5672, 0.4342, 0.3636, 0.3881, 0.7376, 0.5744, 0.5027, 0.7292],\n",
      "       device='mps:0')\n"
     ]
    },
    {
     "name": "stderr",
     "output_type": "stream",
     "text": [
      "D_fake_loss_rnd=-103.517:   3%|▎         | 29/1001 [00:20<11:18,  1.43it/s]"
     ]
    },
    {
     "name": "stdout",
     "output_type": "stream",
     "text": [
      "tensor([0.1440, 0.4295, 0.4584, 0.6453, 0.4134, 0.5527, 0.6948, 0.3193, 0.4091,\n",
      "        0.7510, 0.5828, 0.2258, 0.4615, 0.3904, 0.5212, 0.4075, 0.5465, 0.2327],\n",
      "       device='mps:0')\n",
      "tensor([0.4612, 0.6630, 0.5373, 0.5283, 0.5609, 0.4844, 0.4513, 0.6239, 0.3709,\n",
      "        0.4475, 0.6223, 0.5930, 0.5527, 0.4313, 0.3900, 0.4316, 0.6447, 0.4944],\n",
      "       device='mps:0')\n",
      "tensor([0.3503, 0.5811, 0.7366, 0.5169, 0.5646, 0.3957, 0.3360, 0.5628, 0.3724,\n",
      "        0.3026, 0.8325, 0.4773, 0.4635, 0.4828, 0.5091, 0.4382, 0.5580, 0.3658],\n",
      "       device='mps:0')\n",
      "tensor([0.1440, 0.4295, 0.4584, 0.6453, 0.4134, 0.5527, 0.6948, 0.3193, 0.4091,\n",
      "        0.7510, 0.5828, 0.2258, 0.4615, 0.3904, 0.5212, 0.4075, 0.5465, 0.2327],\n",
      "       device='mps:0')\n",
      "tensor([0.3573, 0.5438, 0.4419, 0.6605, 0.5546, 0.7321, 0.3912, 0.6501, 0.3605,\n",
      "        0.4927, 0.5672, 0.4342, 0.3636, 0.3881, 0.7376, 0.5744, 0.5027, 0.7292],\n",
      "       device='mps:0')\n",
      "tensor([0.1440, 0.4295, 0.4584, 0.6453, 0.4134, 0.5527, 0.6948, 0.3193, 0.4091,\n",
      "        0.7510, 0.5828, 0.2258, 0.4615, 0.3904, 0.5212, 0.4075, 0.5465, 0.2327],\n",
      "       device='mps:0')\n"
     ]
    },
    {
     "name": "stderr",
     "output_type": "stream",
     "text": [
      "D_fake_loss_rnd=-103.517:   3%|▎         | 30/1001 [00:21<11:19,  1.43it/s]"
     ]
    },
    {
     "name": "stdout",
     "output_type": "stream",
     "text": [
      "tensor([0.5389, 0.5704, 0.5417, 0.5059, 0.5803, 0.5180, 0.4314, 0.6701, 0.3137,\n",
      "        0.4322, 0.5680, 0.5876, 0.5215, 0.4034, 0.4906, 0.4747, 0.6049, 0.5185],\n",
      "       device='mps:0')\n",
      "tensor([0.5389, 0.5704, 0.5417, 0.5059, 0.5803, 0.5180, 0.4314, 0.6701, 0.3137,\n",
      "        0.4322, 0.5680, 0.5876, 0.5215, 0.4034, 0.4906, 0.4747, 0.6049, 0.5185],\n",
      "       device='mps:0')\n",
      "tensor([0.2618, 0.3471, 0.3707, 0.4881, 0.4086, 0.4163, 0.4376, 0.5196, 0.2000,\n",
      "        0.5820, 0.8209, 0.3195, 0.7360, 0.5404, 0.6242, 0.4631, 0.3310, 0.3142],\n",
      "       device='mps:0')\n",
      "tensor([0.2694, 0.5717, 0.7109, 0.6172, 0.6328, 0.5256, 0.5620, 0.3303, 0.5168,\n",
      "        0.4482, 0.7850, 0.4481, 0.2323, 0.4558, 0.3892, 0.3947, 0.7343, 0.3243],\n",
      "       device='mps:0')\n",
      "tensor([0.1439, 0.5874, 0.5731, 0.6635, 0.4935, 0.7038, 0.6067, 0.5829, 0.6530,\n",
      "        0.5732, 0.6105, 0.1692, 0.2992, 0.3678, 0.6380, 0.4087, 0.6454, 0.6176],\n",
      "       device='mps:0')\n",
      "tensor([0.4606, 0.6105, 0.4292, 0.5612, 0.5604, 0.4943, 0.3818, 0.6132, 0.3052,\n",
      "        0.5286, 0.5458, 0.4616, 0.3783, 0.5159, 0.5156, 0.5393, 0.6700, 0.4155],\n",
      "       device='mps:0')\n"
     ]
    },
    {
     "name": "stderr",
     "output_type": "stream",
     "text": [
      "D_fake_loss_rnd=48.106:   3%|▎         | 31/1001 [00:22<11:19,  1.43it/s]  "
     ]
    },
    {
     "name": "stdout",
     "output_type": "stream",
     "text": [
      "tensor([0.3573, 0.5438, 0.4419, 0.6605, 0.5546, 0.7321, 0.3912, 0.6501, 0.3605,\n",
      "        0.4927, 0.5672, 0.4342, 0.3636, 0.3881, 0.7376, 0.5744, 0.5027, 0.7292],\n",
      "       device='mps:0')\n",
      "tensor([0.3573, 0.5438, 0.4419, 0.6605, 0.5546, 0.7321, 0.3912, 0.6501, 0.3605,\n",
      "        0.4927, 0.5672, 0.4342, 0.3636, 0.3881, 0.7376, 0.5744, 0.5027, 0.7292],\n",
      "       device='mps:0')\n",
      "tensor([0.3573, 0.5438, 0.4419, 0.6605, 0.5546, 0.7321, 0.3912, 0.6501, 0.3605,\n",
      "        0.4927, 0.5672, 0.4342, 0.3636, 0.3881, 0.7376, 0.5744, 0.5027, 0.7292],\n",
      "       device='mps:0')\n",
      "tensor([0.4606, 0.6105, 0.4292, 0.5612, 0.5604, 0.4943, 0.3818, 0.6132, 0.3052,\n",
      "        0.5286, 0.5458, 0.4616, 0.3783, 0.5159, 0.5156, 0.5393, 0.6700, 0.4155],\n",
      "       device='mps:0')\n",
      "tensor([0.5389, 0.5704, 0.5417, 0.5059, 0.5803, 0.5180, 0.4314, 0.6701, 0.3137,\n",
      "        0.4322, 0.5680, 0.5876, 0.5215, 0.4034, 0.4906, 0.4747, 0.6049, 0.5185],\n",
      "       device='mps:0')\n",
      "tensor([0.5389, 0.5704, 0.5417, 0.5059, 0.5803, 0.5180, 0.4314, 0.6701, 0.3137,\n",
      "        0.4322, 0.5680, 0.5876, 0.5215, 0.4034, 0.4906, 0.4747, 0.6049, 0.5185],\n",
      "       device='mps:0')\n"
     ]
    },
    {
     "name": "stderr",
     "output_type": "stream",
     "text": [
      "D_fake_loss_rnd=48.106:   3%|▎         | 32/1001 [00:22<11:18,  1.43it/s]"
     ]
    },
    {
     "name": "stdout",
     "output_type": "stream",
     "text": [
      "tensor([0.4606, 0.6105, 0.4292, 0.5612, 0.5604, 0.4943, 0.3818, 0.6132, 0.3052,\n",
      "        0.5286, 0.5458, 0.4616, 0.3783, 0.5159, 0.5156, 0.5393, 0.6700, 0.4155],\n",
      "       device='mps:0')\n",
      "tensor([0.2618, 0.3471, 0.3707, 0.4881, 0.4086, 0.4163, 0.4376, 0.5196, 0.2000,\n",
      "        0.5820, 0.8209, 0.3195, 0.7360, 0.5404, 0.6242, 0.4631, 0.3310, 0.3142],\n",
      "       device='mps:0')\n",
      "tensor([0.3573, 0.5438, 0.4419, 0.6605, 0.5546, 0.7321, 0.3912, 0.6501, 0.3605,\n",
      "        0.4927, 0.5672, 0.4342, 0.3636, 0.3881, 0.7376, 0.5744, 0.5027, 0.7292],\n",
      "       device='mps:0')\n",
      "tensor([0.3573, 0.5438, 0.4419, 0.6605, 0.5546, 0.7321, 0.3912, 0.6501, 0.3605,\n",
      "        0.4927, 0.5672, 0.4342, 0.3636, 0.3881, 0.7376, 0.5744, 0.5027, 0.7292],\n",
      "       device='mps:0')\n",
      "tensor([0.1439, 0.5874, 0.5731, 0.6635, 0.4935, 0.7038, 0.6067, 0.5829, 0.6530,\n",
      "        0.5732, 0.6105, 0.1692, 0.2992, 0.3678, 0.6380, 0.4087, 0.6454, 0.6176],\n",
      "       device='mps:0')\n",
      "tensor([0.3573, 0.5438, 0.4419, 0.6605, 0.5546, 0.7321, 0.3912, 0.6501, 0.3605,\n",
      "        0.4927, 0.5672, 0.4342, 0.3636, 0.3881, 0.7376, 0.5744, 0.5027, 0.7292],\n",
      "       device='mps:0')\n"
     ]
    },
    {
     "name": "stderr",
     "output_type": "stream",
     "text": [
      "D_fake_loss_rnd=48.106:   3%|▎         | 33/1001 [00:23<11:17,  1.43it/s]"
     ]
    },
    {
     "name": "stdout",
     "output_type": "stream",
     "text": [
      "tensor([0.5389, 0.5704, 0.5417, 0.5059, 0.5803, 0.5180, 0.4314, 0.6701, 0.3137,\n",
      "        0.4322, 0.5680, 0.5876, 0.5215, 0.4034, 0.4906, 0.4747, 0.6049, 0.5185],\n",
      "       device='mps:0')\n",
      "tensor([0.2694, 0.5717, 0.7109, 0.6172, 0.6328, 0.5256, 0.5620, 0.3303, 0.5168,\n",
      "        0.4482, 0.7850, 0.4481, 0.2323, 0.4558, 0.3892, 0.3947, 0.7343, 0.3243],\n",
      "       device='mps:0')\n",
      "tensor([0.1440, 0.4295, 0.4584, 0.6453, 0.4134, 0.5527, 0.6948, 0.3193, 0.4091,\n",
      "        0.7510, 0.5828, 0.2258, 0.4615, 0.3904, 0.5212, 0.4075, 0.5465, 0.2327],\n",
      "       device='mps:0')\n",
      "tensor([0.4606, 0.6105, 0.4292, 0.5612, 0.5604, 0.4943, 0.3818, 0.6132, 0.3052,\n",
      "        0.5286, 0.5458, 0.4616, 0.3783, 0.5159, 0.5156, 0.5393, 0.6700, 0.4155],\n",
      "       device='mps:0')\n",
      "tensor([0.1439, 0.5874, 0.5731, 0.6635, 0.4935, 0.7038, 0.6067, 0.5829, 0.6530,\n",
      "        0.5732, 0.6105, 0.1692, 0.2992, 0.3678, 0.6380, 0.4087, 0.6454, 0.6176],\n",
      "       device='mps:0')\n",
      "tensor([0.2694, 0.5717, 0.7109, 0.6172, 0.6328, 0.5256, 0.5620, 0.3303, 0.5168,\n",
      "        0.4482, 0.7850, 0.4481, 0.2323, 0.4558, 0.3892, 0.3947, 0.7343, 0.3243],\n",
      "       device='mps:0')\n"
     ]
    },
    {
     "name": "stderr",
     "output_type": "stream",
     "text": [
      "D_fake_loss_rnd=48.106:   3%|▎         | 34/1001 [00:24<11:15,  1.43it/s]"
     ]
    },
    {
     "name": "stdout",
     "output_type": "stream",
     "text": [
      "tensor([0.5389, 0.5704, 0.5417, 0.5059, 0.5803, 0.5180, 0.4314, 0.6701, 0.3137,\n",
      "        0.4322, 0.5680, 0.5876, 0.5215, 0.4034, 0.4906, 0.4747, 0.6049, 0.5185],\n",
      "       device='mps:0')\n",
      "tensor([0.3573, 0.5438, 0.4419, 0.6605, 0.5546, 0.7321, 0.3912, 0.6501, 0.3605,\n",
      "        0.4927, 0.5672, 0.4342, 0.3636, 0.3881, 0.7376, 0.5744, 0.5027, 0.7292],\n",
      "       device='mps:0')\n",
      "tensor([0.5389, 0.5704, 0.5417, 0.5059, 0.5803, 0.5180, 0.4314, 0.6701, 0.3137,\n",
      "        0.4322, 0.5680, 0.5876, 0.5215, 0.4034, 0.4906, 0.4747, 0.6049, 0.5185],\n",
      "       device='mps:0')\n",
      "tensor([0.3573, 0.5438, 0.4419, 0.6605, 0.5546, 0.7321, 0.3912, 0.6501, 0.3605,\n",
      "        0.4927, 0.5672, 0.4342, 0.3636, 0.3881, 0.7376, 0.5744, 0.5027, 0.7292],\n",
      "       device='mps:0')\n",
      "tensor([0.5389, 0.5704, 0.5417, 0.5059, 0.5803, 0.5180, 0.4314, 0.6701, 0.3137,\n",
      "        0.4322, 0.5680, 0.5876, 0.5215, 0.4034, 0.4906, 0.4747, 0.6049, 0.5185],\n",
      "       device='mps:0')\n",
      "tensor([0.4612, 0.6630, 0.5373, 0.5283, 0.5609, 0.4844, 0.4513, 0.6239, 0.3709,\n",
      "        0.4475, 0.6223, 0.5930, 0.5527, 0.4313, 0.3900, 0.4316, 0.6447, 0.4944],\n",
      "       device='mps:0')\n"
     ]
    },
    {
     "name": "stderr",
     "output_type": "stream",
     "text": [
      "D_fake_loss_rnd=48.106:   3%|▎         | 35/1001 [00:24<11:13,  1.43it/s]"
     ]
    },
    {
     "name": "stdout",
     "output_type": "stream",
     "text": [
      "tensor([0.5389, 0.5704, 0.5417, 0.5059, 0.5803, 0.5180, 0.4314, 0.6701, 0.3137,\n",
      "        0.4322, 0.5680, 0.5876, 0.5215, 0.4034, 0.4906, 0.4747, 0.6049, 0.5185],\n",
      "       device='mps:0')\n",
      "tensor([0.1440, 0.4295, 0.4584, 0.6453, 0.4134, 0.5527, 0.6948, 0.3193, 0.4091,\n",
      "        0.7510, 0.5828, 0.2258, 0.4615, 0.3904, 0.5212, 0.4075, 0.5465, 0.2327],\n",
      "       device='mps:0')\n",
      "tensor([0.5389, 0.5704, 0.5417, 0.5059, 0.5803, 0.5180, 0.4314, 0.6701, 0.3137,\n",
      "        0.4322, 0.5680, 0.5876, 0.5215, 0.4034, 0.4906, 0.4747, 0.6049, 0.5185],\n",
      "       device='mps:0')\n",
      "tensor([0.3573, 0.5438, 0.4419, 0.6605, 0.5546, 0.7321, 0.3912, 0.6501, 0.3605,\n",
      "        0.4927, 0.5672, 0.4342, 0.3636, 0.3881, 0.7376, 0.5744, 0.5027, 0.7292],\n",
      "       device='mps:0')\n",
      "tensor([0.1439, 0.5874, 0.5731, 0.6635, 0.4935, 0.7038, 0.6067, 0.5829, 0.6530,\n",
      "        0.5732, 0.6105, 0.1692, 0.2992, 0.3678, 0.6380, 0.4087, 0.6454, 0.6176],\n",
      "       device='mps:0')\n",
      "tensor([0.3503, 0.5811, 0.7366, 0.5169, 0.5646, 0.3957, 0.3360, 0.5628, 0.3724,\n",
      "        0.3026, 0.8325, 0.4773, 0.4635, 0.4828, 0.5091, 0.4382, 0.5580, 0.3658],\n",
      "       device='mps:0')\n"
     ]
    },
    {
     "name": "stderr",
     "output_type": "stream",
     "text": [
      "D_fake_loss_rnd=48.106:   4%|▎         | 36/1001 [00:25<11:16,  1.43it/s]"
     ]
    },
    {
     "name": "stdout",
     "output_type": "stream",
     "text": [
      "tensor([0.1439, 0.5874, 0.5731, 0.6635, 0.4935, 0.7038, 0.6067, 0.5829, 0.6530,\n",
      "        0.5732, 0.6105, 0.1692, 0.2992, 0.3678, 0.6380, 0.4087, 0.6454, 0.6176],\n",
      "       device='mps:0')\n",
      "tensor([0.2618, 0.3471, 0.3707, 0.4881, 0.4086, 0.4163, 0.4376, 0.5196, 0.2000,\n",
      "        0.5820, 0.8209, 0.3195, 0.7360, 0.5404, 0.6242, 0.4631, 0.3310, 0.3142],\n",
      "       device='mps:0')\n",
      "tensor([0.1440, 0.4295, 0.4584, 0.6453, 0.4134, 0.5527, 0.6948, 0.3193, 0.4091,\n",
      "        0.7510, 0.5828, 0.2258, 0.4615, 0.3904, 0.5212, 0.4075, 0.5465, 0.2327],\n",
      "       device='mps:0')\n",
      "tensor([0.3573, 0.5438, 0.4419, 0.6605, 0.5546, 0.7321, 0.3912, 0.6501, 0.3605,\n",
      "        0.4927, 0.5672, 0.4342, 0.3636, 0.3881, 0.7376, 0.5744, 0.5027, 0.7292],\n",
      "       device='mps:0')\n",
      "tensor([0.6481, 0.6045, 0.4457, 0.4687, 0.5367, 0.4834, 0.4615, 0.5177, 0.3141,\n",
      "        0.3604, 0.6778, 0.5540, 0.4486, 0.3124, 0.5632, 0.4627, 0.7179, 0.5082],\n",
      "       device='mps:0')\n",
      "tensor([0.5389, 0.5704, 0.5417, 0.5059, 0.5803, 0.5180, 0.4314, 0.6701, 0.3137,\n",
      "        0.4322, 0.5680, 0.5876, 0.5215, 0.4034, 0.4906, 0.4747, 0.6049, 0.5185],\n",
      "       device='mps:0')\n"
     ]
    },
    {
     "name": "stderr",
     "output_type": "stream",
     "text": [
      "D_fake_loss_rnd=48.106:   4%|▎         | 37/1001 [00:26<11:20,  1.42it/s]"
     ]
    },
    {
     "name": "stdout",
     "output_type": "stream",
     "text": [
      "tensor([0.2618, 0.3471, 0.3707, 0.4881, 0.4086, 0.4163, 0.4376, 0.5196, 0.2000,\n",
      "        0.5820, 0.8209, 0.3195, 0.7360, 0.5404, 0.6242, 0.4631, 0.3310, 0.3142],\n",
      "       device='mps:0')\n",
      "tensor([0.4606, 0.6105, 0.4292, 0.5612, 0.5604, 0.4943, 0.3818, 0.6132, 0.3052,\n",
      "        0.5286, 0.5458, 0.4616, 0.3783, 0.5159, 0.5156, 0.5393, 0.6700, 0.4155],\n",
      "       device='mps:0')\n",
      "tensor([0.3573, 0.5438, 0.4419, 0.6605, 0.5546, 0.7321, 0.3912, 0.6501, 0.3605,\n",
      "        0.4927, 0.5672, 0.4342, 0.3636, 0.3881, 0.7376, 0.5744, 0.5027, 0.7292],\n",
      "       device='mps:0')\n",
      "tensor([0.3503, 0.5811, 0.7366, 0.5169, 0.5646, 0.3957, 0.3360, 0.5628, 0.3724,\n",
      "        0.3026, 0.8325, 0.4773, 0.4635, 0.4828, 0.5091, 0.4382, 0.5580, 0.3658],\n",
      "       device='mps:0')\n",
      "tensor([0.4612, 0.6630, 0.5373, 0.5283, 0.5609, 0.4844, 0.4513, 0.6239, 0.3709,\n",
      "        0.4475, 0.6223, 0.5930, 0.5527, 0.4313, 0.3900, 0.4316, 0.6447, 0.4944],\n",
      "       device='mps:0')\n",
      "tensor([0.1439, 0.5874, 0.5731, 0.6635, 0.4935, 0.7038, 0.6067, 0.5829, 0.6530,\n",
      "        0.5732, 0.6105, 0.1692, 0.2992, 0.3678, 0.6380, 0.4087, 0.6454, 0.6176],\n",
      "       device='mps:0')\n"
     ]
    },
    {
     "name": "stderr",
     "output_type": "stream",
     "text": [
      "D_fake_loss_rnd=48.106:   4%|▍         | 38/1001 [00:26<11:24,  1.41it/s]"
     ]
    },
    {
     "name": "stdout",
     "output_type": "stream",
     "text": [
      "tensor([0.2694, 0.5717, 0.7109, 0.6172, 0.6328, 0.5256, 0.5620, 0.3303, 0.5168,\n",
      "        0.4482, 0.7850, 0.4481, 0.2323, 0.4558, 0.3892, 0.3947, 0.7343, 0.3243],\n",
      "       device='mps:0')\n",
      "tensor([0.3573, 0.5438, 0.4419, 0.6605, 0.5546, 0.7321, 0.3912, 0.6501, 0.3605,\n",
      "        0.4927, 0.5672, 0.4342, 0.3636, 0.3881, 0.7376, 0.5744, 0.5027, 0.7292],\n",
      "       device='mps:0')\n",
      "tensor([0.3503, 0.5811, 0.7366, 0.5169, 0.5646, 0.3957, 0.3360, 0.5628, 0.3724,\n",
      "        0.3026, 0.8325, 0.4773, 0.4635, 0.4828, 0.5091, 0.4382, 0.5580, 0.3658],\n",
      "       device='mps:0')\n",
      "tensor([0.4606, 0.6105, 0.4292, 0.5612, 0.5604, 0.4943, 0.3818, 0.6132, 0.3052,\n",
      "        0.5286, 0.5458, 0.4616, 0.3783, 0.5159, 0.5156, 0.5393, 0.6700, 0.4155],\n",
      "       device='mps:0')\n",
      "tensor([0.5389, 0.5704, 0.5417, 0.5059, 0.5803, 0.5180, 0.4314, 0.6701, 0.3137,\n",
      "        0.4322, 0.5680, 0.5876, 0.5215, 0.4034, 0.4906, 0.4747, 0.6049, 0.5185],\n",
      "       device='mps:0')\n",
      "tensor([0.3573, 0.5438, 0.4419, 0.6605, 0.5546, 0.7321, 0.3912, 0.6501, 0.3605,\n",
      "        0.4927, 0.5672, 0.4342, 0.3636, 0.3881, 0.7376, 0.5744, 0.5027, 0.7292],\n",
      "       device='mps:0')\n"
     ]
    },
    {
     "name": "stderr",
     "output_type": "stream",
     "text": [
      "D_fake_loss_rnd=48.106:   4%|▍         | 39/1001 [00:27<11:26,  1.40it/s]"
     ]
    },
    {
     "name": "stdout",
     "output_type": "stream",
     "text": [
      "tensor([0.5389, 0.5704, 0.5417, 0.5059, 0.5803, 0.5180, 0.4314, 0.6701, 0.3137,\n",
      "        0.4322, 0.5680, 0.5876, 0.5215, 0.4034, 0.4906, 0.4747, 0.6049, 0.5185],\n",
      "       device='mps:0')\n",
      "tensor([0.4606, 0.6105, 0.4292, 0.5612, 0.5604, 0.4943, 0.3818, 0.6132, 0.3052,\n",
      "        0.5286, 0.5458, 0.4616, 0.3783, 0.5159, 0.5156, 0.5393, 0.6700, 0.4155],\n",
      "       device='mps:0')\n",
      "tensor([0.3573, 0.5438, 0.4419, 0.6605, 0.5546, 0.7321, 0.3912, 0.6501, 0.3605,\n",
      "        0.4927, 0.5672, 0.4342, 0.3636, 0.3881, 0.7376, 0.5744, 0.5027, 0.7292],\n",
      "       device='mps:0')\n",
      "tensor([0.1439, 0.5874, 0.5731, 0.6635, 0.4935, 0.7038, 0.6067, 0.5829, 0.6530,\n",
      "        0.5732, 0.6105, 0.1692, 0.2992, 0.3678, 0.6380, 0.4087, 0.6454, 0.6176],\n",
      "       device='mps:0')\n"
     ]
    },
    {
     "name": "stderr",
     "output_type": "stream",
     "text": [
      "D_fake_loss_rnd=48.106:   4%|▍         | 39/1001 [00:28<11:33,  1.39it/s]\n"
     ]
    },
    {
     "ename": "KeyboardInterrupt",
     "evalue": "",
     "output_type": "error",
     "traceback": [
      "\u001b[0;31m---------------------------------------------------------------------------\u001b[0m",
      "\u001b[0;31mKeyboardInterrupt\u001b[0m                         Traceback (most recent call last)",
      "Cell \u001b[0;32mIn[50], line 31\u001b[0m\n\u001b[1;32m     28\u001b[0m D_model\u001b[38;5;241m.\u001b[39mto(device)\n\u001b[1;32m     29\u001b[0m \u001b[38;5;66;03m# D_loss_fn.to(device)\u001b[39;00m\n\u001b[0;32m---> 31\u001b[0m \u001b[43mtraining_loop\u001b[49m\u001b[43m(\u001b[49m\u001b[43m  \u001b[49m\u001b[43mN_Epochs\u001b[49m\u001b[43m,\u001b[49m\u001b[43m \u001b[49m\u001b[43mG_model\u001b[49m\u001b[43m,\u001b[49m\u001b[43m \u001b[49m\u001b[43mD_model\u001b[49m\u001b[43m,\u001b[49m\u001b[43m \u001b[49m\u001b[43mD_loss_fn\u001b[49m\u001b[43m,\u001b[49m\u001b[43m \u001b[49m\u001b[43mG_opt\u001b[49m\u001b[43m,\u001b[49m\u001b[43m \u001b[49m\u001b[43mD_opt\u001b[49m\u001b[43m \u001b[49m\u001b[43m)\u001b[49m\n",
      "Cell \u001b[0;32mIn[49], line 55\u001b[0m, in \u001b[0;36mtraining_loop\u001b[0;34m(N_Epochs, G_model, D_model, D_loss_fn, G_opt, D_opt)\u001b[0m\n\u001b[1;32m     53\u001b[0m     \u001b[38;5;66;03m# D_opt.zero_grad()\u001b[39;00m\n\u001b[1;32m     54\u001b[0m     D_model\u001b[38;5;241m.\u001b[39mzero_grad()\n\u001b[0;32m---> 55\u001b[0m     \u001b[43mfake_loss\u001b[49m\u001b[38;5;241;43m.\u001b[39;49m\u001b[43mbackward\u001b[49m\u001b[43m(\u001b[49m\u001b[43mretain_graph\u001b[49m\u001b[38;5;241;43m=\u001b[39;49m\u001b[38;5;28;43;01mTrue\u001b[39;49;00m\u001b[43m)\u001b[49m\n\u001b[1;32m     56\u001b[0m     D_opt\u001b[38;5;241m.\u001b[39mstep()\n\u001b[1;32m     58\u001b[0m output \u001b[38;5;241m=\u001b[39m D_model( inputs )\u001b[38;5;241m.\u001b[39mreshape(\u001b[38;5;241m-\u001b[39m\u001b[38;5;241m1\u001b[39m)\n",
      "File \u001b[0;32m~/anaconda3/envs/its530_py38/lib/python3.8/site-packages/torch/_tensor.py:522\u001b[0m, in \u001b[0;36mTensor.backward\u001b[0;34m(self, gradient, retain_graph, create_graph, inputs)\u001b[0m\n\u001b[1;32m    512\u001b[0m \u001b[38;5;28;01mif\u001b[39;00m has_torch_function_unary(\u001b[38;5;28mself\u001b[39m):\n\u001b[1;32m    513\u001b[0m     \u001b[38;5;28;01mreturn\u001b[39;00m handle_torch_function(\n\u001b[1;32m    514\u001b[0m         Tensor\u001b[38;5;241m.\u001b[39mbackward,\n\u001b[1;32m    515\u001b[0m         (\u001b[38;5;28mself\u001b[39m,),\n\u001b[0;32m   (...)\u001b[0m\n\u001b[1;32m    520\u001b[0m         inputs\u001b[38;5;241m=\u001b[39minputs,\n\u001b[1;32m    521\u001b[0m     )\n\u001b[0;32m--> 522\u001b[0m \u001b[43mtorch\u001b[49m\u001b[38;5;241;43m.\u001b[39;49m\u001b[43mautograd\u001b[49m\u001b[38;5;241;43m.\u001b[39;49m\u001b[43mbackward\u001b[49m\u001b[43m(\u001b[49m\n\u001b[1;32m    523\u001b[0m \u001b[43m    \u001b[49m\u001b[38;5;28;43mself\u001b[39;49m\u001b[43m,\u001b[49m\u001b[43m \u001b[49m\u001b[43mgradient\u001b[49m\u001b[43m,\u001b[49m\u001b[43m \u001b[49m\u001b[43mretain_graph\u001b[49m\u001b[43m,\u001b[49m\u001b[43m \u001b[49m\u001b[43mcreate_graph\u001b[49m\u001b[43m,\u001b[49m\u001b[43m \u001b[49m\u001b[43minputs\u001b[49m\u001b[38;5;241;43m=\u001b[39;49m\u001b[43minputs\u001b[49m\n\u001b[1;32m    524\u001b[0m \u001b[43m\u001b[49m\u001b[43m)\u001b[49m\n",
      "File \u001b[0;32m~/anaconda3/envs/its530_py38/lib/python3.8/site-packages/torch/autograd/__init__.py:266\u001b[0m, in \u001b[0;36mbackward\u001b[0;34m(tensors, grad_tensors, retain_graph, create_graph, grad_variables, inputs)\u001b[0m\n\u001b[1;32m    261\u001b[0m     retain_graph \u001b[38;5;241m=\u001b[39m create_graph\n\u001b[1;32m    263\u001b[0m \u001b[38;5;66;03m# The reason we repeat the same comment below is that\u001b[39;00m\n\u001b[1;32m    264\u001b[0m \u001b[38;5;66;03m# some Python versions print out the first line of a multi-line function\u001b[39;00m\n\u001b[1;32m    265\u001b[0m \u001b[38;5;66;03m# calls in the traceback and some print out the last line\u001b[39;00m\n\u001b[0;32m--> 266\u001b[0m \u001b[43mVariable\u001b[49m\u001b[38;5;241;43m.\u001b[39;49m\u001b[43m_execution_engine\u001b[49m\u001b[38;5;241;43m.\u001b[39;49m\u001b[43mrun_backward\u001b[49m\u001b[43m(\u001b[49m\u001b[43m  \u001b[49m\u001b[38;5;66;43;03m# Calls into the C++ engine to run the backward pass\u001b[39;49;00m\n\u001b[1;32m    267\u001b[0m \u001b[43m    \u001b[49m\u001b[43mtensors\u001b[49m\u001b[43m,\u001b[49m\n\u001b[1;32m    268\u001b[0m \u001b[43m    \u001b[49m\u001b[43mgrad_tensors_\u001b[49m\u001b[43m,\u001b[49m\n\u001b[1;32m    269\u001b[0m \u001b[43m    \u001b[49m\u001b[43mretain_graph\u001b[49m\u001b[43m,\u001b[49m\n\u001b[1;32m    270\u001b[0m \u001b[43m    \u001b[49m\u001b[43mcreate_graph\u001b[49m\u001b[43m,\u001b[49m\n\u001b[1;32m    271\u001b[0m \u001b[43m    \u001b[49m\u001b[43minputs\u001b[49m\u001b[43m,\u001b[49m\n\u001b[1;32m    272\u001b[0m \u001b[43m    \u001b[49m\u001b[43mallow_unreachable\u001b[49m\u001b[38;5;241;43m=\u001b[39;49m\u001b[38;5;28;43;01mTrue\u001b[39;49;00m\u001b[43m,\u001b[49m\n\u001b[1;32m    273\u001b[0m \u001b[43m    \u001b[49m\u001b[43maccumulate_grad\u001b[49m\u001b[38;5;241;43m=\u001b[39;49m\u001b[38;5;28;43;01mTrue\u001b[39;49;00m\u001b[43m,\u001b[49m\n\u001b[1;32m    274\u001b[0m \u001b[43m\u001b[49m\u001b[43m)\u001b[49m\n",
      "\u001b[0;31mKeyboardInterrupt\u001b[0m: "
     ]
    }
   ],
   "source": [
    "G_model     =  basic_generator(pixels, in_sz=100+num_classes*certainty_repeater, n_channels=channels, n_extra_layers=1)# Generator_Net()\n",
    "\n",
    "# G_model     = Generator_DL_Net()\n",
    "\n",
    "D_model     =    basic_critic(\n",
    "                    pixels, \n",
    "                    n_channels=channels, \n",
    "                    n_extra_layers=1, \n",
    "                    act_cls=partial(  nn.LeakyReLU, negative_slope=0.2)\n",
    ")#\n",
    "\n",
    "D_model     = Critic(channels_img=channels, features_d=pixels)\n",
    "\n",
    "# D_model = CriticNet()\n",
    "\n",
    "## D_loss_fn   = nn.CrossEntropyLoss( )  \n",
    "## D_loss_fn   = F.mse_loss\n",
    "\n",
    "D_loss_fn = wasserstein_loss\n",
    "# use a loss function that supports values between -1 and 1\n",
    "# D_loss_fn = nn.BCEWithLogitsLoss()\n",
    "\n",
    "G_opt       = torch.optim.Adam( G_model.parameters(), lr=learning_rate, betas=(0.0, 0.9) )\n",
    "D_opt       = torch.optim.Adam( D_model.parameters(), lr=learning_rate, betas=(0.0, 0.9) )\n",
    "\n",
    "# move everything to device\n",
    "G_model.to(device)\n",
    "D_model.to(device)\n",
    "# D_loss_fn.to(device)\n",
    "\n",
    "training_loop(  N_Epochs, G_model, D_model, D_loss_fn, G_opt, D_opt )\n"
   ]
  },
  {
   "cell_type": "code",
   "execution_count": 24,
   "metadata": {},
   "outputs": [
    {
     "data": {
      "image/png": "[encoded data removed]",
      "text/plain": [
       "<Figure size 640x480 with 1 Axes>"
      ]
     },
     "metadata": {},
     "output_type": "display_data"
    }
   ],
   "source": [
    "plot_GAN_losses(list_losses_fake)"
   ]
  },
  {
   "cell_type": "code",
   "execution_count": 25,
   "metadata": {},
   "outputs": [
    {
     "name": "stdout",
     "output_type": "stream",
     "text": [
      "torch.Size([1, 18])\n"
     ]
    }
   ],
   "source": [
    "label = 0\n",
    "        \n",
    "label_tensor = torch.zeros((num_classes)).to(device)\n",
    "label_tensor[label] = 1.0\n",
    "\n",
    "label_tensor = label_tensor.unsqueeze(0)\n",
    "label_tensor = label_tensor.repeat(1, certainty_repeater)\n",
    "print(label_tensor.shape)\n",
    "\n",
    "# label_tensor = label_tensor.repeat(4, 32, 1).permute(0, 1, 2)\n",
    "# label_tensor.shape"
   ]
  },
  {
   "cell_type": "code",
   "execution_count": 26,
   "metadata": {},
   "outputs": [
    {
     "name": "stdout",
     "output_type": "stream",
     "text": [
      "torch.Size([1, 18])\n",
      "tensor([[0.6108, 0.7549, 0.4160, 0.4863, 0.4453, 0.4937, 0.2608, 0.5836, 0.5315,\n",
      "         0.7971, 0.6307, 0.6400, 0.6615, 0.8277, 0.4592, 0.3237, 0.4282, 0.5488]],\n",
      "       device='mps:0')\n"
     ]
    }
   ],
   "source": [
    "from sentence_transformers import SentenceTransformer, util\n",
    "\n",
    "# model = SentenceTransformer('sentence-transformers/all-MiniLM-L6-v2')\n",
    "\n",
    "#Compute embedding for both lists\n",
    "embedding = model.encode('stone sword', convert_to_tensor=True)\n",
    "embedding = (embedding + 1) / 2\n",
    "# compressor = nn.Linear(384, 18).to('mps')\n",
    "# label_tensor = (compressor(embedding)).unsqueeze(0).to(device)\n",
    "label_tensor = embedding.unsqueeze(0)#.reshape(1, channels, pixels, -1)\n",
    "print(label_tensor.shape)\n",
    "print(label_tensor)"
   ]
  },
  {
   "cell_type": "code",
   "execution_count": 29,
   "metadata": {},
   "outputs": [
    {
     "name": "stderr",
     "output_type": "stream",
     "text": [
      "/var/folders/8v/kyhpjx6d3y1b7dp0twz_83sw0000gn/T/ipykernel_17776/2723397247.py:20: RuntimeWarning: invalid value encountered in cast\n",
      "  img = Image.fromarray((img * 255).astype(np.uint8)[0])\n"
     ]
    },
    {
     "data": {
      "image/png": "[encoded data removed]",
      "text/plain": [
       "<Figure size 1600x800 with 6 Axes>"
      ]
     },
     "metadata": {},
     "output_type": "display_data"
    }
   ],
   "source": [
    "f, axarr = plt.subplots(2,3, figsize=(16,8))\n",
    "\n",
    "for i in range(2):\n",
    "    for j in range(3):\n",
    "        rand = random_G_vector_input().unsqueeze(0)\n",
    "        # print(rand.shape)\n",
    "\n",
    "        inputs = torch.cat( (rand, label_tensor) , dim=1)\n",
    "        output = G_model.forward( inputs).cpu()\n",
    "        # convert output (batch, img_size) to (batch, 4, 32, 32)\n",
    "        if channels == 4 or channels == 3:\n",
    "            output = output.reshape((-1, channels, pixels, pixels))\n",
    "            img = output.permute(0, 2, 3, 1).detach().numpy()#.reshape(pixels,pixels)\n",
    "        elif channels == 1:\n",
    "            output = output.reshape((-1, pixels, pixels))\n",
    "            img = output.detach().numpy()\n",
    "\n",
    "        # print(img.shape)\n",
    "        # convert img to pil\n",
    "        img = Image.fromarray((img * 255).astype(np.uint8)[0])\n",
    "        # display the image\n",
    "        # plt.imshow(img)\n",
    "        axarr[i,j].imshow(img)#, interpolation='none', cmap='Blues'"
   ]
  }
 ],
 "metadata": {
  "kernelspec": {
   "display_name": "its530_py38",
   "language": "python",
   "name": "python3"
  },
  "language_info": {
   "codemirror_mode": {
    "name": "ipython",
    "version": 3
   },
   "file_extension": ".py",
   "mimetype": "text/x-python",
   "name": "python",
   "nbconvert_exporter": "python",
   "pygments_lexer": "ipython3",
   "version": "3.8.18"
  }
 },
 "nbformat": 4,
 "nbformat_minor": 2
}
